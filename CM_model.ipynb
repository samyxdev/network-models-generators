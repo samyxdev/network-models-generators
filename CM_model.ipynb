{
 "cells": [
  {
   "cell_type": "markdown",
   "id": "a052eec8",
   "metadata": {},
   "source": [
    "# Configuration model (CM)"
   ]
  },
  {
   "cell_type": "code",
   "execution_count": 1,
   "id": "32271d2c",
   "metadata": {},
   "outputs": [],
   "source": [
    "import networkx as nx\n",
    "import numpy as np\n",
    "import random as rd\n",
    "import math\n",
    "import matplotlib.pyplot as plt\n",
    "from scipy import stats # to do regression for the estimation of the exponent\n",
    "from scipy.stats import poisson\n",
    "from network_utils import *"
   ]
  },
  {
   "cell_type": "markdown",
   "id": "97870017",
   "metadata": {},
   "source": [
    "## Parameters\n",
    "\n",
    "The algorithm has 2 input parameters: \n",
    "* N: number of nodes\n",
    "* p_k : nodes degree distribution"
   ]
  },
  {
   "cell_type": "markdown",
   "id": "bb4fcc0d",
   "metadata": {},
   "source": [
    "### Size of the network"
   ]
  },
  {
   "cell_type": "code",
   "execution_count": 2,
   "id": "979aa466",
   "metadata": {},
   "outputs": [
    {
     "name": "stdout",
     "output_type": "stream",
     "text": [
      "Insert number of nodes:\n",
      "10000\n"
     ]
    }
   ],
   "source": [
    "# Insert Number of Nodes\n",
    "N = int(input(\"Insert number of nodes:\\n\"))"
   ]
  },
  {
   "cell_type": "markdown",
   "id": "ce642633",
   "metadata": {},
   "source": [
    "### Distribution choice\n",
    "Choose between: \n",
    "* Poisson degree distribution (---> generates an ER network)\n",
    "* Powerlaw degree distribution (---> generates a SF network)"
   ]
  },
  {
   "cell_type": "code",
   "execution_count": 3,
   "id": "feadbc49",
   "metadata": {
    "scrolled": true
   },
   "outputs": [
    {
     "name": "stdout",
     "output_type": "stream",
     "text": [
      "Choose the probability distribution:\n",
      "--> type 1 for poisson\n",
      "--> type 2 for powerlaw\n",
      "2\n"
     ]
    }
   ],
   "source": [
    "p_k = int(input(\"Choose the probability distribution:\\n--> type 1 for poisson\\n--> type 2 for powerlaw\\n\"))\n",
    "\n",
    "if p_k not in [1, 2]:\n",
    "    raise ValueError(\"Incorrect number!\")"
   ]
  },
  {
   "cell_type": "markdown",
   "id": "0fc630b9",
   "metadata": {},
   "source": [
    "Insert distribution parameter"
   ]
  },
  {
   "cell_type": "code",
   "execution_count": 4,
   "id": "76940c0e",
   "metadata": {},
   "outputs": [
    {
     "name": "stdout",
     "output_type": "stream",
     "text": [
      "Insert gamma parameter:\n",
      "2.9\n"
     ]
    }
   ],
   "source": [
    "if p_k== 1:\n",
    "    lamb = float(input(\"Insert lambda parameter:\\n\"))\n",
    "else:\n",
    "    gamma = float(input(\"Insert gamma parameter:\\n\"))"
   ]
  },
  {
   "cell_type": "code",
   "execution_count": 5,
   "id": "ef29749a",
   "metadata": {},
   "outputs": [],
   "source": [
    "# name of the model file\n",
    "model_name = \"nets/CM_powerlaw_gamma2#9_n10000.net\""
   ]
  },
  {
   "cell_type": "markdown",
   "id": "d3878e27",
   "metadata": {},
   "source": [
    "Now, let's build the degrees list according to the chosen probability distribution"
   ]
  },
  {
   "cell_type": "code",
   "execution_count": 6,
   "id": "f0f5e8ae",
   "metadata": {},
   "outputs": [
    {
     "name": "stdout",
     "output_type": "stream",
     "text": [
      "Lenght of the sequence: 10000\n",
      "\n",
      "Sequence of node degrees (first 50 nodes):\n",
      " [2, 4, 3, 1, 1, 1, 3, 1, 1, 1, 2, 2, 1, 5, 2, 1, 2, 1, 1, 1, 4, 1, 1, 1, 6, 4, 1, 1, 2, 1, 15, 2, 2, 1, 2, 1, 1, 1, 1, 2, 1, 1, 2, 1, 2, 1, 2, 1, 2, 2]\n"
     ]
    }
   ],
   "source": [
    "sequence = [1] # degrees list initialized with a 1 to execute the loop\n",
    "\n",
    "# The degree sequence needs to have an even sum\n",
    "while sum(sequence) % 2 != 0:\n",
    "    sequence = []\n",
    "    \n",
    "    # Poisson distribution\n",
    "    if p_k== 1:\n",
    "        sequence = np.random.poisson(lamb, N)\n",
    "         \n",
    "    # Powerlaw distribution\n",
    "    if p_k == 2:\n",
    "        \n",
    "        # Limit the number of self-loops and multiple edges in case of gamma between 2 and 3\n",
    "        if gamma >= 2 and gamma <=3: \n",
    "            k_max = round(math.sqrt(N)) # limit the maximum degree of each node to the square root of N\n",
    "            \n",
    "            # generate dhe degree for each node\n",
    "            for i in range(N):\n",
    "                prob = float(nx.utils.powerlaw_sequence(n = 1,exponent=gamma)[0])\n",
    "                deg = int(round(prob))\n",
    "                \n",
    "                # re-generate the degree if it's above the above defined threshold\n",
    "                while deg > k_max:\n",
    "                    prob = float(nx.utils.powerlaw_sequence(1,exponent=gamma)[0])\n",
    "                    deg = int(round(prob))\n",
    "                sequence.append(deg) # add degree to the degrees list\n",
    "        else:         \n",
    "            seq=nx.utils.powerlaw_sequence(N,exponent=gamma)\n",
    "            # round to integer values in the range [0,N]\n",
    "            sequence = [min(N, max( int(round(s)),0 )) for s in seq]\n",
    "\n",
    "      \n",
    "print(\"Lenght of the sequence: {}\".format(len(sequence)))\n",
    "print(\"\\nSequence of node degrees (first 50 nodes):\\n {}\".format(sequence[:50]))"
   ]
  },
  {
   "cell_type": "markdown",
   "id": "35ddea82",
   "metadata": {},
   "source": [
    "## Algorithm\n",
    "We need now to build a random graph/network with this degree sequence. <br>\n",
    "Let's build before an empty graph of type MultiGraph, which allows self-loops and multiple edges and then we'll remove them"
   ]
  },
  {
   "cell_type": "code",
   "execution_count": 7,
   "id": "469c9e80",
   "metadata": {},
   "outputs": [],
   "source": [
    "G = nx.empty_graph(N, create_using = nx.MultiGraph) # MultiGraph because of self-loops"
   ]
  },
  {
   "cell_type": "markdown",
   "id": "438f96c5",
   "metadata": {},
   "source": [
    "Let's create the list of \"stubs\", i.e. a list of available degree-repeated nodes. "
   ]
  },
  {
   "cell_type": "code",
   "execution_count": 8,
   "id": "b9c1bad0",
   "metadata": {},
   "outputs": [
    {
     "name": "stdout",
     "output_type": "stream",
     "text": [
      "[0, 1, 1, 1, 1, 2, 2, 2, 3, 4, 5, 6, 6, 6, 7, 8, 9, 10, 10, 11, 11, 12, 13, 13, 13, 13, 13, 14, 14, 15, 16, 16, 17, 18, 19, 20, 20, 20, 20, 21, 22, 23, 24, 24, 24, 24, 24, 24, 25]\n"
     ]
    }
   ],
   "source": [
    "#stubs_list = list(chain.from_iterable([n] * d for n, d in enumerate(sequence)))\n",
    "stubs_list = []\n",
    "for i in range(N):\n",
    "    stubs_list += [i for _ in range(sequence[i])]\n",
    "\n",
    "print(stubs_list[1:50])"
   ]
  },
  {
   "cell_type": "markdown",
   "id": "ff9b0306",
   "metadata": {},
   "source": [
    "Shuffle the \"stubs\" list, i.e. perform a random permutation"
   ]
  },
  {
   "cell_type": "code",
   "execution_count": 9,
   "id": "b4c49393",
   "metadata": {},
   "outputs": [
    {
     "name": "stdout",
     "output_type": "stream",
     "text": [
      "[5133, 6089, 2940, 4323, 44, 1762, 7892, 2611, 1676, 721, 8549, 4628, 1043, 1796, 776, 5948, 1258, 2485, 550, 6738, 6349, 2442, 4282, 8311, 4003, 4673, 4303, 1634, 4544, 7539, 8509, 9116, 8242, 4852, 6548, 2238, 9501, 4290, 7704, 8837, 7454, 7793, 8895, 4086, 3115, 8356, 76, 3065, 854]\n"
     ]
    }
   ],
   "source": [
    "np.random.shuffle(stubs_list)\n",
    "print(stubs_list[1:50])"
   ]
  },
  {
   "cell_type": "markdown",
   "id": "65f9289f",
   "metadata": {},
   "source": [
    "Now we need to creade edges among the nodes in the \"stubs\" list. We could use two different options:\n",
    "* A first option could be to bipartition the shuffled slot vector to have a random pairing of nodes. This allows to use the add_edges_from function of networkx that creates links between the 2 partitions<br>"
   ]
  },
  {
   "cell_type": "code",
   "execution_count": 10,
   "id": "f136bc3d",
   "metadata": {},
   "outputs": [],
   "source": [
    "#half = len(slots) // 2\n",
    "\n",
    "#out_slots, in_slots = stubs_list[:half],stubs_list[half:]\n",
    "#G.add_edges_from(zip(out_slots, in_slots)) # with zip we create a series of tuples from the 2 lists"
   ]
  },
  {
   "cell_type": "markdown",
   "id": "3fccfa8a",
   "metadata": {},
   "source": [
    "* The 2nd option, that is the one we use, is to add edges between consecutive pairs of nodes in the shuffled list <br>"
   ]
  },
  {
   "cell_type": "code",
   "execution_count": 11,
   "id": "815f2b7e",
   "metadata": {},
   "outputs": [],
   "source": [
    "for i in range(0, len(stubs_list), 2):\n",
    "    G.add_edge(stubs_list[i], stubs_list[i+1])"
   ]
  },
  {
   "cell_type": "markdown",
   "id": "4c515e39",
   "metadata": {},
   "source": [
    "### Parallel edges and self-loops\n",
    "Let's first check the presence of self-loops"
   ]
  },
  {
   "cell_type": "code",
   "execution_count": 12,
   "id": "32434f89",
   "metadata": {},
   "outputs": [
    {
     "data": {
      "text/plain": [
       "1"
      ]
     },
     "execution_count": 12,
     "metadata": {},
     "output_type": "execute_result"
    }
   ],
   "source": [
    "# number of self-loops\n",
    "nx.number_of_selfloops(G)"
   ]
  },
  {
   "cell_type": "code",
   "execution_count": 13,
   "id": "9bff7d28",
   "metadata": {},
   "outputs": [
    {
     "data": {
      "text/plain": [
       "[6124]"
      ]
     },
     "execution_count": 13,
     "metadata": {},
     "output_type": "execute_result"
    }
   ],
   "source": [
    "# nodes with a self-loop\n",
    "list(nx.nodes_with_selfloops(G))"
   ]
  },
  {
   "cell_type": "markdown",
   "id": "8376c81f",
   "metadata": {},
   "source": [
    "Multiple edges"
   ]
  },
  {
   "cell_type": "code",
   "execution_count": 14,
   "id": "42b9b6fe",
   "metadata": {},
   "outputs": [
    {
     "data": {
      "text/plain": [
       "4.0"
      ]
     },
     "execution_count": 14,
     "metadata": {},
     "output_type": "execute_result"
    }
   ],
   "source": [
    "arr = nx.to_numpy_matrix(G)\n",
    "num_multiedges = np.sum(arr>=2) / 2 # divide by two as graph is undirected \n",
    "num_multiedges"
   ]
  },
  {
   "cell_type": "code",
   "execution_count": 15,
   "id": "c12cfd27",
   "metadata": {},
   "outputs": [
    {
     "data": {
      "image/png": "[encoded data removed]",
      "text/plain": [
       "<Figure size 1152x648 with 1 Axes>"
      ]
     },
     "metadata": {
      "needs_background": "light"
     },
     "output_type": "display_data"
    }
   ],
   "source": [
    "# Visualize multiple edges\n",
    "plt.figure(figsize=(16,9))\n",
    "plt.imshow(arr, interpolation='nearest', cmap='gray')\n",
    "plt.show()"
   ]
  },
  {
   "cell_type": "markdown",
   "id": "5faf3039",
   "metadata": {},
   "source": [
    "Remove parallel edges and self-loops"
   ]
  },
  {
   "cell_type": "code",
   "execution_count": 16,
   "id": "f93d0789",
   "metadata": {},
   "outputs": [
    {
     "data": {
      "text/plain": [
       "(0, 0)"
      ]
     },
     "execution_count": 16,
     "metadata": {},
     "output_type": "execute_result"
    }
   ],
   "source": [
    "G = nx.Graph(G) # removes parallel edges\n",
    "G.remove_edges_from(nx.selfloop_edges(G)) # removes selfloops\n",
    "\n",
    "arr = nx.to_numpy_matrix(G)\n",
    "num_multiedges = np.sum(arr>=2) / 2 # divide by two as graph is undirected \n",
    "\n",
    "\n",
    "nx.number_of_selfloops(G), int(num_multiedges)"
   ]
  },
  {
   "cell_type": "markdown",
   "id": "d5a95d28",
   "metadata": {},
   "source": [
    "### Save the network"
   ]
  },
  {
   "cell_type": "code",
   "execution_count": 17,
   "id": "b8531f1b",
   "metadata": {},
   "outputs": [],
   "source": [
    "nx.write_pajek(G, model_name)\n",
    "#nx.write_gexf(G, \"test.gexf\")"
   ]
  },
  {
   "cell_type": "markdown",
   "id": "682db6de",
   "metadata": {},
   "source": [
    "## Network descriptors"
   ]
  },
  {
   "cell_type": "code",
   "execution_count": 18,
   "id": "ebfa5479",
   "metadata": {},
   "outputs": [
    {
     "name": "stdout",
     "output_type": "stream",
     "text": [
      "Number of nodes: 10000\n",
      "Number of edges: 10015\n",
      "Min degree: 1\n",
      "Max degree: 86\n",
      "Avg degree: 2.003\n",
      "Clustering: 0.0005\n",
      "Assortativity: -0.012\n"
     ]
    }
   ],
   "source": [
    "print(\"Number of nodes: {}\".format(G.number_of_nodes()))\n",
    "#G.nodes()\n",
    "\n",
    "print(\"Number of edges: {}\".format(G.number_of_edges()))\n",
    "#G.edges()\n",
    "\n",
    "degrees_values = [val for key,val in G.degree()] # degree for each node\n",
    "#degrees_values\n",
    "\n",
    "print(\"Min degree: {}\".format(np.min(degrees_values)))\n",
    "print(\"Max degree: {}\".format(np.max(degrees_values)))\n",
    "print(\"Avg degree: {}\".format(round(np.mean(degrees_values), 4)))\n",
    "#G = nx.Graph(G)\n",
    "\n",
    "print(\"Clustering: {}\".format(round(nx.average_clustering(G), 4)))\n",
    "print(\"Assortativity: {}\".format(round(nx.degree_assortativity_coefficient(G), 4)))\n",
    "if nx.is_connected(G):\n",
    "    print(\"Avg path length: {}\".format(round(nx.average_shortest_path_length(G), 4)))\n",
    "    print(\"Diameter: {}\".format(nx.diameter(G)))"
   ]
  },
  {
   "cell_type": "markdown",
   "id": "f6326c8f",
   "metadata": {},
   "source": [
    "## Plots"
   ]
  },
  {
   "cell_type": "markdown",
   "id": "8b691cac",
   "metadata": {},
   "source": [
    "### Plotting the network\n",
    "Plot only small size networks"
   ]
  },
  {
   "cell_type": "code",
   "execution_count": 19,
   "id": "19ff96ad",
   "metadata": {},
   "outputs": [],
   "source": [
    "if N <= 100:\n",
    "    nx.draw(G, alpha = .3, edge_color = '#40a6d1', node_color = '#40a6d1', node_size=30, with_labels = True)"
   ]
  },
  {
   "cell_type": "markdown",
   "id": "b22eccde",
   "metadata": {},
   "source": [
    "### Plotting the distribution"
   ]
  },
  {
   "cell_type": "markdown",
   "id": "c40f1398",
   "metadata": {},
   "source": [
    "We use the auxiliary functions we defined in network_utils for visualizing the distribution using either linear or log-log scale. <br>"
   ]
  },
  {
   "cell_type": "code",
   "execution_count": 58,
   "id": "f7287973",
   "metadata": {},
   "outputs": [
    {
     "name": "stderr",
     "output_type": "stream",
     "text": [
      "C:\\Users\\denal\\OneDrive\\Desktop\\network-models-generators\\network_utils.py:45: UserWarning: color is redundantly defined by the 'color' keyword argument and the fmt string \"k-\" (-> color='k'). The keyword argument will take precedence.\n",
      "  plt.plot(w, z, 'k-', color='#7f7f7f')\n"
     ]
    },
    {
     "data": {
      "image/png": "[encoded data removed]",
      "text/plain": [
       "<Figure size 864x288 with 2 Axes>"
      ]
     },
     "metadata": {},
     "output_type": "display_data"
    }
   ],
   "source": [
    "plt.figure(figsize=(12,4))\n",
    "plt.style.use('ggplot')\n",
    "\n",
    "# case of Poisson distribution\n",
    "if p_k == 1:\n",
    "    plt.subplot(1, 2, 1)\n",
    "    plot_distrib_lin(graph=G, fit_poisson = True, fit_lambda = lamb, colour='#40a6d1', alpha=.8, expct_lo=0, expct_hi=20)\n",
    "    plt.subplot(1, 2, 2)\n",
    "    plot_distrib_log(graph=G, colour='#40a6d1', alpha=.8, fit_line=False, expct_lo=1, expct_hi=50, expct_const=3)\n",
    "\n",
    "    # powerlaw distribution\n",
    "else:\n",
    "    plt.subplot(1, 2, 1)\n",
    "    plot_distrib_lin(graph=G, colour='#40a6d1', alpha=.8)\n",
    "    plt.subplot(1, 2, 2)\n",
    "    plot_distrib_log(graph=G, colour='#40a6d1', alpha=.8, fit_line=True, expct_lo=1, expct_hi=100, expct_const=3)\n",
    "\n",
    "plt.show()"
   ]
  },
  {
   "cell_type": "markdown",
   "id": "2ac20c59",
   "metadata": {},
   "source": [
    "### Degree distribution histograms"
   ]
  },
  {
   "cell_type": "code",
   "execution_count": 21,
   "id": "79554501",
   "metadata": {},
   "outputs": [],
   "source": [
    "# Auxiliary function to create logaritmically spaced bins (for log-log histogram) by specifying the number of bins\n",
    "def create_log_bins(degrees, num = 20):\n",
    "    bins = np.logspace(np.log10(np.min(degrees)), np.log10(np.max(degrees)), num)\n",
    "    bins = np.array(bins)\n",
    "    return bins"
   ]
  },
  {
   "cell_type": "code",
   "execution_count": 22,
   "id": "2d87ace4",
   "metadata": {},
   "outputs": [],
   "source": [
    "# PDF histogram in linear scale\n",
    "def plot_linear_PDF(G, name='', nbins = 15):\n",
    "    degrees = [G.degree(n) for n in G.nodes()]\n",
    "    #plt.figure(figsize=(12,8))\n",
    "    plt.title('PDF in linear scale', fontsize=15)\n",
    "    plt.xlabel('Degree', fontsize=13)\n",
    "    plt.ylabel('PDF', fontsize=13)\n",
    "    plt.hist(degrees, bins=nbins, density = True, cumulative = False)\n",
    "    plt.tight_layout()\n",
    "    plt.style.use('ggplot')\n",
    "        \n",
    "#plot_linear_PDF(G)"
   ]
  },
  {
   "cell_type": "code",
   "execution_count": 23,
   "id": "dee6e4f7",
   "metadata": {},
   "outputs": [],
   "source": [
    "# PDF histogram in Log-Log scale\n",
    "def plot_loglog_PDF(G, name=\"\", nbins=20):\n",
    "    degrees = [G.degree(n) for n in G.nodes()]\n",
    "    \n",
    "    # creating logaritmically spaced bins\n",
    "    bins = create_log_bins(degrees, num = nbins)\n",
    "    \n",
    "    #plt.figure(figsize=(12,8))\n",
    "    plt.title('PDF in log-log scale',  fontsize=15)\n",
    "    plt.xlabel('Degree', fontsize=13)\n",
    "    plt.ylabel('PDF', fontsize=13)\n",
    "    plt.yscale('log')\n",
    "    plt.xscale('log')\n",
    "    plt.hist(degrees, bins=bins, density = True, cumulative = False)\n",
    "    plt.tight_layout()\n",
    "    #plt.style.use('ggplot')\n",
    "\n",
    "#plot_loglog_PDF(G)"
   ]
  },
  {
   "cell_type": "code",
   "execution_count": 24,
   "id": "c17bb188",
   "metadata": {},
   "outputs": [],
   "source": [
    "# CCDF histogram in linear scale\n",
    "def plot_linear_CCDF(G, name=\"\", nbins=30):\n",
    "    degrees = [G.degree(n) for n in G.nodes()]\n",
    "    #plt.figure(figsize=(12,8))\n",
    "    plt.title('CCDF in linear scale', fontsize=15)\n",
    "    plt.xlabel('Degree', fontsize=13)\n",
    "    plt.ylabel('CCDF', fontsize=13)\n",
    "    plt.hist(degrees, bins=nbins, density = True, cumulative = -1)\n",
    "    plt.tight_layout()\n",
    "    #plt.style.use('ggplot')\n",
    "\n",
    "#plot_linear_CCDF(G)"
   ]
  },
  {
   "cell_type": "code",
   "execution_count": 25,
   "id": "057afdc1",
   "metadata": {},
   "outputs": [],
   "source": [
    "# CCDF histogram in Log-Log scale\n",
    "def plot_loglog_CCDF(G, name=\"\", nbins=30):\n",
    "    degrees = [G.degree(n) for n in G.nodes()]\n",
    "    \n",
    "    # creating logaritmically spaced bins\n",
    "    bins = create_log_bins(degrees, num=nbins)\n",
    "    \n",
    "    #plt.figure(figsize=(12,8))\n",
    "    plt.title('CCDF in log-log scale', fontsize=15)\n",
    "    plt.xlabel('Degree', fontsize=13)\n",
    "    plt.ylabel('CCDF', fontsize=13)\n",
    "    plt.yscale('log')\n",
    "    plt.xscale('log')\n",
    "    plt.hist(degrees, bins=bins, density = True, cumulative = -1)\n",
    "    plt.tight_layout()\n",
    "    #plt.style.use('ggplot')\n",
    "    \n",
    "#plot_loglog_CCDF(G)"
   ]
  },
  {
   "cell_type": "code",
   "execution_count": 26,
   "id": "5d931b9b",
   "metadata": {},
   "outputs": [],
   "source": [
    "# number of bins to use\n",
    "n_bins = 15"
   ]
  },
  {
   "cell_type": "code",
   "execution_count": 27,
   "id": "69f5ec77",
   "metadata": {},
   "outputs": [
    {
     "data": {
      "image/png": "[encoded data removed]",
      "text/plain": [
       "<Figure size 864x288 with 2 Axes>"
      ]
     },
     "metadata": {},
     "output_type": "display_data"
    }
   ],
   "source": [
    "plt.figure(figsize=(12,4))\n",
    "plt.subplot(1, 2, 1)\n",
    "plot_linear_PDF(G, nbins=n_bins) \n",
    "plt.subplot(1, 2, 2)\n",
    "plot_loglog_PDF(G, nbins=n_bins)\n",
    "plt.show()"
   ]
  },
  {
   "cell_type": "code",
   "execution_count": 28,
   "id": "15864b1b",
   "metadata": {},
   "outputs": [
    {
     "data": {
      "image/png": "[encoded data removed]",
      "text/plain": [
       "<Figure size 864x288 with 2 Axes>"
      ]
     },
     "metadata": {},
     "output_type": "display_data"
    }
   ],
   "source": [
    "plt.figure(figsize=(12,4))\n",
    "plt.subplot(1, 2, 1)\n",
    "plot_linear_CCDF(G, nbins=n_bins) \n",
    "plt.subplot(1, 2, 2)\n",
    "plot_loglog_CCDF(G, nbins=n_bins)\n",
    "plt.show()"
   ]
  },
  {
   "cell_type": "markdown",
   "id": "1be16c1e",
   "metadata": {},
   "source": [
    "## Estimation of the exponent for the empirical degree distributions of BA and CM(SF), for the networks of size N>=1000.\n",
    "We'll see 3 main approaches for estimating the exponent of a scale-free network:\n",
    "* MLE\n",
    "* Linear regression on the binned PDF histogram\n",
    "* Linear regression on the binned CCDF histogram\n",
    "\n",
    "Let's see these three approaches and then we'll compare the results obtained by each one of them"
   ]
  },
  {
   "cell_type": "markdown",
   "id": "332d6505",
   "metadata": {},
   "source": [
    "### Using MLE\n",
    "* We can use the <i>powerlaw</i> Python package described here: https://arxiv.org/abs/1305.0215, which is based on a MLE of the exponent of a powerlaw distribution . <br>\n",
    "As described in the paper https://arxiv.org/abs/0706.1062, the <i>powerlaw</i> package we use performs the exponent estimation by following the formula 3.7 <br>\n",
    "According to the paper, the first step to perform a maximum likelihood fit to a powerlaw is to determine what portion of the data to fit. A heavy-tailed\n",
    "distribution's interesting feature is, indeed, the tail and its properties, so if the initial, small values of the data\n",
    "do not follow a power law distribution we may opt to disregard them. The question is from what\n",
    "minimal value xmin (Kmin) the scaling relationship of the power law begins. The methods descibed in the paper of Clauset et al. mentioned above find this optimal value of xmin by creating a powerlaw fit starting from each unique value in the dataset, then selecting the one that results in the minimal Kolmogorov-Smirnov distance, D, between the data and the fit. Therefore the algorithm finds xmin my minimizing D. <br> <br>\n",
    "* While the maximum likelihood fit to a continous power law can be calculated analytically,\n",
    "and thus the optimal xmin and resulting fitted parameters can be computed quickly, this is not so for the discrete case. The maximum likelihood fit for a discrete power law is found by numerical optimization,\n",
    "the computation of which for every possible value of xmin can take time. To circumvent this issue,\n",
    "powerlaw can use an analytic estimate of gamma, from [https://arxiv.org/abs/0706.1062], which can \"give results accurate to about 1% or\n",
    "better provided xmin ≥ 6\".\n",
    "\n",
    "\n"
   ]
  },
  {
   "cell_type": "code",
   "execution_count": 29,
   "id": "132909cf",
   "metadata": {},
   "outputs": [],
   "source": [
    "#pip install powerlaw\n",
    "#pip install mpmath "
   ]
  },
  {
   "cell_type": "code",
   "execution_count": 30,
   "id": "17f4942a",
   "metadata": {},
   "outputs": [
    {
     "name": "stdout",
     "output_type": "stream",
     "text": [
      "Calculating best minimal value for power law fit\n",
      "xmin progress: 97%\n",
      "\n",
      "Exponent estimation:\n",
      "2.9874\n"
     ]
    }
   ],
   "source": [
    "import powerlaw\n",
    "\n",
    "degrees = [G.degree(n) for n in G.nodes()]\n",
    "results = powerlaw.Fit(degrees, discrete = True)\n",
    "print(\"\\n\\nExponent estimation:\")\n",
    "print(round(results.power_law.alpha, 4))\n",
    "#print(results.power_law.xmin)"
   ]
  },
  {
   "cell_type": "markdown",
   "id": "442c9cbf",
   "metadata": {},
   "source": [
    "### Using Linear Regression"
   ]
  },
  {
   "cell_type": "code",
   "execution_count": 31,
   "id": "12b38a1c",
   "metadata": {},
   "outputs": [
    {
     "data": {
      "text/plain": [
       "(1, 86)"
      ]
     },
     "execution_count": 31,
     "metadata": {},
     "output_type": "execute_result"
    }
   ],
   "source": [
    "# find min and max of the degrees\n",
    "Kmin = np.min(degrees)\n",
    "Kmax = np.max(degrees)\n",
    "\n",
    "Kmin, Kmax"
   ]
  },
  {
   "cell_type": "code",
   "execution_count": 32,
   "id": "cdd2e4f0",
   "metadata": {},
   "outputs": [],
   "source": [
    "# calculate the logarithm of K_i for all the data elements\n",
    "log_degrees = [np.log10(G.degree(n)) for n in G.nodes()]\n",
    "#log_degrees"
   ]
  },
  {
   "cell_type": "code",
   "execution_count": 33,
   "id": "3446a812",
   "metadata": {},
   "outputs": [
    {
     "data": {
      "text/plain": [
       "(0.0, 1.9395192526186185)"
      ]
     },
     "execution_count": 33,
     "metadata": {},
     "output_type": "execute_result"
    }
   ],
   "source": [
    "# calculate useful logs\n",
    "log_Kmin = np.log10(Kmin)\n",
    "#log_Kmax = np.log10(Kmax)\n",
    "log_Kmax_1 = np.log10(Kmax + 1)\n",
    "log_Kmin, log_Kmax_1"
   ]
  },
  {
   "cell_type": "markdown",
   "id": "bd0752e7",
   "metadata": {},
   "source": [
    "Divide the interval in equal size bins and build the bind"
   ]
  },
  {
   "cell_type": "code",
   "execution_count": 34,
   "id": "cc5421d1",
   "metadata": {},
   "outputs": [
    {
     "data": {
      "text/plain": [
       "[0.0,\n",
       " 0.1293012835079079,\n",
       " 0.2586025670158158,\n",
       " 0.38790385052372367,\n",
       " 0.5172051340316316,\n",
       " 0.6465064175395395,\n",
       " 0.7758077010474473,\n",
       " 0.9051089845553553,\n",
       " 1.0344102680632632,\n",
       " 1.1637115515711711,\n",
       " 1.293012835079079,\n",
       " 1.422314118586987,\n",
       " 1.5516154020948947,\n",
       " 1.6809166856028026,\n",
       " 1.8102179691107105,\n",
       " 1.9395192526186185]"
      ]
     },
     "execution_count": 34,
     "metadata": {},
     "output_type": "execute_result"
    }
   ],
   "source": [
    "# length of the interval\n",
    "interval_length = (log_Kmax_1 - log_Kmin) / n_bins\n",
    "\n",
    "# build the bins\n",
    "bins = []\n",
    "for i in range(n_bins):\n",
    "    bins.append(log_Kmin + interval_length * i)\n",
    "bins.append(log_Kmax_1)\n",
    "bins"
   ]
  },
  {
   "cell_type": "code",
   "execution_count": 35,
   "id": "2e1efe2a",
   "metadata": {},
   "outputs": [
    {
     "data": {
      "text/plain": [
       "[5367, 0, 2902, 784, 378, 192, 221, 62, 40, 24, 13, 8, 3, 3, 3]"
      ]
     },
     "execution_count": 35,
     "metadata": {},
     "output_type": "execute_result"
    }
   ],
   "source": [
    "# Count how many elements ki have their log(ki) in each bin\n",
    "counts = []\n",
    "for i in range(n_bins):\n",
    "    counts.append(len([deg for deg in log_degrees if deg >= bins[i] and deg < bins[i+1]]))\n",
    "\n",
    "counts"
   ]
  },
  {
   "cell_type": "code",
   "execution_count": 36,
   "id": "6916cc68",
   "metadata": {},
   "outputs": [
    {
     "data": {
      "text/plain": [
       "[0.5367,\n",
       " 0.0,\n",
       " 0.2902,\n",
       " 0.0784,\n",
       " 0.0378,\n",
       " 0.0192,\n",
       " 0.0221,\n",
       " 0.0062,\n",
       " 0.004,\n",
       " 0.0024,\n",
       " 0.0013,\n",
       " 0.0008,\n",
       " 0.0003,\n",
       " 0.0003,\n",
       " 0.0003]"
      ]
     },
     "execution_count": 36,
     "metadata": {},
     "output_type": "execute_result"
    }
   ],
   "source": [
    "# Dividing the number of elements in each bin by the total number of elements n we get estimations for the probabilities p_b of each bin\n",
    "probs = [deg/ N for deg in counts]\n",
    "probs # probabilities of each bin"
   ]
  },
  {
   "cell_type": "code",
   "execution_count": 37,
   "id": "43cf2bc1",
   "metadata": {},
   "outputs": [
    {
     "data": {
      "text/plain": [
       "0.9999999999999999"
      ]
     },
     "execution_count": 37,
     "metadata": {},
     "output_type": "execute_result"
    }
   ],
   "source": [
    "np.sum(probs)"
   ]
  },
  {
   "cell_type": "markdown",
   "id": "fddf8936",
   "metadata": {},
   "source": [
    "### Linear regression on the PDF"
   ]
  },
  {
   "cell_type": "markdown",
   "id": "05e5c5a1",
   "metadata": {},
   "source": [
    "We now need to make the linear regression of pairs (x_b, log_pb) to obtain the regression line. <br>\n",
    "Let's first calculate the elements of log_pb\n"
   ]
  },
  {
   "cell_type": "code",
   "execution_count": 38,
   "id": "aecd653e",
   "metadata": {},
   "outputs": [
    {
     "name": "stderr",
     "output_type": "stream",
     "text": [
      "C:\\Users\\denal\\AppData\\Local\\Temp/ipykernel_22808/502823365.py:1: RuntimeWarning: divide by zero encountered in log10\n",
      "  log_PDF_p = [np.log10(p) for p in probs]\n"
     ]
    },
    {
     "data": {
      "text/plain": [
       "[-0.2702684047129646,\n",
       " -inf,\n",
       " -0.5373025918982829,\n",
       " -1.1056839373155616,\n",
       " -1.4225082001627747,\n",
       " -1.7166987712964503,\n",
       " -1.6556077263148892,\n",
       " -2.207608310501746,\n",
       " -2.3979400086720375,\n",
       " -2.619788758288394,\n",
       " -2.886056647693163,\n",
       " -3.0969100130080562,\n",
       " -3.5228787452803374,\n",
       " -3.5228787452803374,\n",
       " -3.5228787452803374]"
      ]
     },
     "execution_count": 38,
     "metadata": {},
     "output_type": "execute_result"
    }
   ],
   "source": [
    "log_PDF_p = [np.log10(p) for p in probs]\n",
    "log_PDF_p"
   ]
  },
  {
   "cell_type": "markdown",
   "id": "8018ec8e",
   "metadata": {},
   "source": [
    "We may have some infinite values: let's remove them from the list"
   ]
  },
  {
   "cell_type": "code",
   "execution_count": 39,
   "id": "17232c51",
   "metadata": {},
   "outputs": [
    {
     "data": {
      "text/plain": [
       "[1]"
      ]
     },
     "execution_count": 39,
     "metadata": {},
     "output_type": "execute_result"
    }
   ],
   "source": [
    "# list containing indices of the infinite elements\n",
    "inf_indices = []\n",
    "\n",
    "# populate the list\n",
    "for i in range(len(log_PDF_p)):\n",
    "    if math.isinf(log_PDF_p[i]):\n",
    "        inf_indices.append(i)\n",
    "               \n",
    "inf_indices"
   ]
  },
  {
   "cell_type": "code",
   "execution_count": 40,
   "id": "2f5c5f45",
   "metadata": {},
   "outputs": [
    {
     "data": {
      "text/plain": [
       "[-0.2702684047129646,\n",
       " -0.5373025918982829,\n",
       " -1.1056839373155616,\n",
       " -1.4225082001627747,\n",
       " -1.7166987712964503,\n",
       " -1.6556077263148892,\n",
       " -2.207608310501746,\n",
       " -2.3979400086720375,\n",
       " -2.619788758288394,\n",
       " -2.886056647693163,\n",
       " -3.0969100130080562,\n",
       " -3.5228787452803374,\n",
       " -3.5228787452803374,\n",
       " -3.5228787452803374]"
      ]
     },
     "execution_count": 40,
     "metadata": {},
     "output_type": "execute_result"
    }
   ],
   "source": [
    "# select only finite elements:\n",
    "log_PDF_p = [v for v in log_PDF_p if not math.isinf(v)]\n",
    "log_PDF_p"
   ]
  },
  {
   "cell_type": "markdown",
   "id": "efafb8f4",
   "metadata": {},
   "source": [
    "The X vector of the linear regression is the bins vector, except from the first element <br>"
   ]
  },
  {
   "cell_type": "code",
   "execution_count": 41,
   "id": "b3ea6d8b",
   "metadata": {},
   "outputs": [
    {
     "data": {
      "text/plain": [
       "[0.1293012835079079,\n",
       " 0.38790385052372367,\n",
       " 0.5172051340316316,\n",
       " 0.6465064175395395,\n",
       " 0.7758077010474473,\n",
       " 0.9051089845553553,\n",
       " 1.0344102680632632,\n",
       " 1.1637115515711711,\n",
       " 1.293012835079079,\n",
       " 1.422314118586987,\n",
       " 1.5516154020948947,\n",
       " 1.6809166856028026,\n",
       " 1.8102179691107105,\n",
       " 1.9395192526186185]"
      ]
     },
     "execution_count": 41,
     "metadata": {},
     "output_type": "execute_result"
    }
   ],
   "source": [
    "X = bins[1:]\n",
    "\n",
    "# we should select only elements corresponding to finite values of the correspondig log_PDF_p\n",
    "x_2 = []\n",
    "for i in range(len(X)):\n",
    "    if i not in inf_indices:\n",
    "        x_2.append(X[i])\n",
    "X = x_2\n",
    "X"
   ]
  },
  {
   "cell_type": "markdown",
   "id": "2a2473d7",
   "metadata": {},
   "source": [
    "The Y vector of the linear regression is log_PDF_pLog_pb"
   ]
  },
  {
   "cell_type": "code",
   "execution_count": 42,
   "id": "53f03742",
   "metadata": {},
   "outputs": [
    {
     "data": {
      "text/plain": [
       "[-0.2702684047129646,\n",
       " -0.5373025918982829,\n",
       " -1.1056839373155616,\n",
       " -1.4225082001627747,\n",
       " -1.7166987712964503,\n",
       " -1.6556077263148892,\n",
       " -2.207608310501746,\n",
       " -2.3979400086720375,\n",
       " -2.619788758288394,\n",
       " -2.886056647693163,\n",
       " -3.0969100130080562,\n",
       " -3.5228787452803374,\n",
       " -3.5228787452803374,\n",
       " -3.5228787452803374]"
      ]
     },
     "execution_count": 42,
     "metadata": {},
     "output_type": "execute_result"
    }
   ],
   "source": [
    "Y = log_PDF_p\n",
    "Y"
   ]
  },
  {
   "cell_type": "code",
   "execution_count": 43,
   "id": "99ab5366",
   "metadata": {},
   "outputs": [
    {
     "data": {
      "image/png": "[encoded data removed]",
      "text/plain": [
       "<Figure size 432x288 with 1 Axes>"
      ]
     },
     "metadata": {},
     "output_type": "display_data"
    }
   ],
   "source": [
    "plt.scatter(X, Y)\n",
    "plt.show()"
   ]
  },
  {
   "cell_type": "markdown",
   "id": "04766d98",
   "metadata": {},
   "source": [
    "Let's perform the Linear Regression by using the stats function of the scipy package"
   ]
  },
  {
   "cell_type": "code",
   "execution_count": 44,
   "id": "dfae19b7",
   "metadata": {},
   "outputs": [],
   "source": [
    "regr = stats.linregress(X, Y)"
   ]
  },
  {
   "cell_type": "markdown",
   "id": "80e3fb1c",
   "metadata": {},
   "source": [
    "We are interested in the slope of the regression line, indeed the estimation of the exponent is: <br>\n",
    "* gamma = -slope + 1"
   ]
  },
  {
   "cell_type": "code",
   "execution_count": 45,
   "id": "49827025",
   "metadata": {},
   "outputs": [
    {
     "name": "stdout",
     "output_type": "stream",
     "text": [
      "Slope:  -1.9435703766714467\n",
      "\n",
      "Exponent estimation: 2.9435703766714467\n"
     ]
    }
   ],
   "source": [
    "print(\"Slope: \", regr.slope)\n",
    "exponent_estimation =  - regr.slope + 1\n",
    "print(\"\\nExponent estimation:\", exponent_estimation)"
   ]
  },
  {
   "cell_type": "markdown",
   "id": "72f5d40c",
   "metadata": {},
   "source": [
    "### Linear regression on the CCDF"
   ]
  },
  {
   "cell_type": "markdown",
   "id": "8da42eb4",
   "metadata": {},
   "source": [
    "Another alternative for the estimation of exponent gamma consists in doing exactly the same as above but for the complementary cumulative distribution function (CCDF) instead of the probability density function (PDF). <br>\n",
    "CCDF is calculated from the PDF just by summing up \n",
    "the probabilities of all the bins to the right of the bin you are considering (this one included in the sum). "
   ]
  },
  {
   "cell_type": "code",
   "execution_count": 46,
   "id": "299416e5",
   "metadata": {},
   "outputs": [
    {
     "data": {
      "text/plain": [
       "[0.5367,\n",
       " 0.0,\n",
       " 0.2902,\n",
       " 0.0784,\n",
       " 0.0378,\n",
       " 0.0192,\n",
       " 0.0221,\n",
       " 0.0062,\n",
       " 0.004,\n",
       " 0.0024,\n",
       " 0.0013,\n",
       " 0.0008,\n",
       " 0.0003,\n",
       " 0.0003,\n",
       " 0.0003]"
      ]
     },
     "execution_count": 46,
     "metadata": {},
     "output_type": "execute_result"
    }
   ],
   "source": [
    "# probabilities of the bins\n",
    "probs"
   ]
  },
  {
   "cell_type": "code",
   "execution_count": 47,
   "id": "c21f1152",
   "metadata": {},
   "outputs": [],
   "source": [
    "# compute CCDF by summing on the right\n",
    "CCDF_c = []\n",
    "for i in range(len(probs)):\n",
    "    CCDF_c.append(np.sum(probs[i:]))"
   ]
  },
  {
   "cell_type": "code",
   "execution_count": 48,
   "id": "badfd093",
   "metadata": {},
   "outputs": [
    {
     "data": {
      "text/plain": [
       "[0.9999999999999999,\n",
       " 0.4633000000000001,\n",
       " 0.46330000000000016,\n",
       " 0.17309999999999998,\n",
       " 0.09469999999999998,\n",
       " 0.056900000000000006,\n",
       " 0.037700000000000004,\n",
       " 0.015600000000000001,\n",
       " 0.009399999999999999,\n",
       " 0.005399999999999999,\n",
       " 0.0029999999999999996,\n",
       " 0.0017,\n",
       " 0.0009,\n",
       " 0.0006,\n",
       " 0.0003]"
      ]
     },
     "execution_count": 48,
     "metadata": {},
     "output_type": "execute_result"
    }
   ],
   "source": [
    "CCDF_c"
   ]
  },
  {
   "cell_type": "markdown",
   "id": "f78df964",
   "metadata": {},
   "source": [
    "We now need to make the linear regression of pairs (x_b and log_pb) to obtain the regression line.<br>\n",
    "Let's first calculate the elements of log(cb)"
   ]
  },
  {
   "cell_type": "code",
   "execution_count": 49,
   "id": "826e71da",
   "metadata": {},
   "outputs": [
    {
     "data": {
      "text/plain": [
       "[-4.821637332766436e-17,\n",
       " -0.3341376997968447,\n",
       " -0.33413769979684466,\n",
       " -0.7617029321246062,\n",
       " -1.0236500209967268,\n",
       " -1.2448877336049289,\n",
       " -1.4236586497942072,\n",
       " -1.8068754016455384,\n",
       " -2.0268721464003012,\n",
       " -2.2676062401770314,\n",
       " -2.5228787452803374,\n",
       " -2.769551078621726,\n",
       " -3.0457574905606752,\n",
       " -3.2218487496163566,\n",
       " -3.5228787452803374]"
      ]
     },
     "execution_count": 49,
     "metadata": {},
     "output_type": "execute_result"
    }
   ],
   "source": [
    "log_CCDF_c = [np.log10(c) for c in CCDF_c]\n",
    "log_CCDF_c"
   ]
  },
  {
   "cell_type": "markdown",
   "id": "7b8369a9",
   "metadata": {},
   "source": [
    "Again, as before, we may have infinite values that we should remove"
   ]
  },
  {
   "cell_type": "code",
   "execution_count": 50,
   "id": "6d962e6e",
   "metadata": {},
   "outputs": [
    {
     "data": {
      "text/plain": [
       "[]"
      ]
     },
     "execution_count": 50,
     "metadata": {},
     "output_type": "execute_result"
    }
   ],
   "source": [
    "# list containing indices of the infinite elements\n",
    "inf_indices = []\n",
    "\n",
    "for i in range(len(log_CCDF_c)):\n",
    "    if math.isinf(log_CCDF_c[i]):\n",
    "        inf_indices.append(i)\n",
    "               \n",
    "inf_indices"
   ]
  },
  {
   "cell_type": "code",
   "execution_count": 51,
   "id": "137e43a9",
   "metadata": {},
   "outputs": [
    {
     "data": {
      "text/plain": [
       "[-4.821637332766436e-17,\n",
       " -0.3341376997968447,\n",
       " -0.33413769979684466,\n",
       " -0.7617029321246062,\n",
       " -1.0236500209967268,\n",
       " -1.2448877336049289,\n",
       " -1.4236586497942072,\n",
       " -1.8068754016455384,\n",
       " -2.0268721464003012,\n",
       " -2.2676062401770314,\n",
       " -2.5228787452803374,\n",
       " -2.769551078621726,\n",
       " -3.0457574905606752,\n",
       " -3.2218487496163566,\n",
       " -3.5228787452803374]"
      ]
     },
     "execution_count": 51,
     "metadata": {},
     "output_type": "execute_result"
    }
   ],
   "source": [
    "# select only finite elements:\n",
    "log_CCDF_c = [v for v in log_CCDF_c if not math.isinf(v)]\n",
    "log_CCDF_c"
   ]
  },
  {
   "cell_type": "markdown",
   "id": "3c669ecf",
   "metadata": {},
   "source": [
    "X vector is the bins vector, except from the first element <br>"
   ]
  },
  {
   "cell_type": "code",
   "execution_count": 52,
   "id": "0026f09f",
   "metadata": {},
   "outputs": [
    {
     "data": {
      "text/plain": [
       "[0.1293012835079079,\n",
       " 0.2586025670158158,\n",
       " 0.38790385052372367,\n",
       " 0.5172051340316316,\n",
       " 0.6465064175395395,\n",
       " 0.7758077010474473,\n",
       " 0.9051089845553553,\n",
       " 1.0344102680632632,\n",
       " 1.1637115515711711,\n",
       " 1.293012835079079,\n",
       " 1.422314118586987,\n",
       " 1.5516154020948947,\n",
       " 1.6809166856028026,\n",
       " 1.8102179691107105,\n",
       " 1.9395192526186185]"
      ]
     },
     "execution_count": 52,
     "metadata": {},
     "output_type": "execute_result"
    }
   ],
   "source": [
    "X = bins[1:]\n",
    "\n",
    "# we should select only elements corresponding to finite values of the correspondig log_PDF_p\n",
    "x_2 = []\n",
    "for i in range(len(X)):\n",
    "    if i not in inf_indices:\n",
    "        x_2.append(X[i])\n",
    "X = x_2\n",
    "X"
   ]
  },
  {
   "cell_type": "markdown",
   "id": "4286259c",
   "metadata": {},
   "source": [
    "Y vector is the log_CCDF_c vector computed above"
   ]
  },
  {
   "cell_type": "code",
   "execution_count": 53,
   "id": "ccd1d896",
   "metadata": {},
   "outputs": [],
   "source": [
    "Y = log_CCDF_c"
   ]
  },
  {
   "cell_type": "code",
   "execution_count": 54,
   "id": "381d3016",
   "metadata": {},
   "outputs": [
    {
     "data": {
      "image/png": "[encoded data removed]",
      "text/plain": [
       "<Figure size 432x288 with 1 Axes>"
      ]
     },
     "metadata": {},
     "output_type": "display_data"
    }
   ],
   "source": [
    "plt.scatter(X, Y)\n",
    "plt.show()"
   ]
  },
  {
   "cell_type": "markdown",
   "id": "d5c7f928",
   "metadata": {},
   "source": [
    "Let's perform the Linear Regression by using the stats function of the scipy package: the procedure is the same as before."
   ]
  },
  {
   "cell_type": "code",
   "execution_count": 55,
   "id": "0dc522ed",
   "metadata": {},
   "outputs": [
    {
     "name": "stdout",
     "output_type": "stream",
     "text": [
      "Slope:  -1.9534179569831378\n",
      "\n",
      "Exponent estimation: 2.953417956983138\n"
     ]
    }
   ],
   "source": [
    "regr = stats.linregress(X, Y)\n",
    "print(\"Slope: \", regr.slope)\n",
    "exponent_estimation =  - regr.slope + 1\n",
    "print(\"\\nExponent estimation:\", exponent_estimation)"
   ]
  },
  {
   "cell_type": "markdown",
   "id": "81b70b55",
   "metadata": {},
   "source": [
    "#### Conclusion on exponent estimation\n",
    "Binning-based approaches, i.e. the 2 approaches we saw based on constructing bins and performing regression on the binned data,  perform poorly. <br>\n",
    "As we can easily imagine, in binning-based approaches the estimated exponent is highly dependent on the choice of bin width, and this dependency varies as a function of sample size ( [https://esajournals.onlinelibrary.wiley.com/doi/10.1890/07-1288.1White]). <br>\n",
    "In general, binning results in a loss of\n",
    "information about the distributions of points within a\n",
    "bin and is thus expected to perform poorly (Clauset et al.\n",
    "2007, Edwards et al. 2007). Therefore, while binning is\n",
    "useful for visualizing the frequency distribution, and\n",
    "normalized logarithmic binning performs well at this\n",
    "task, binning-based approaches should be avoided for\n",
    "parameter estimation (Clauset et al. 2007). <br>\n",
    "\n",
    "Maximum likelihood estimation performs best in estimating the powerlaw exponent."
   ]
  }
 ],
 "metadata": {
  "kernelspec": {
   "display_name": "Python 3",
   "language": "python",
   "name": "python3"
  },
  "language_info": {
   "codemirror_mode": {
    "name": "ipython",
    "version": 3
   },
   "file_extension": ".py",
   "mimetype": "text/x-python",
   "name": "python",
   "nbconvert_exporter": "python",
   "pygments_lexer": "ipython3",
   "version": "3.9.6"
  }
 },
 "nbformat": 4,
 "nbformat_minor": 5
}
