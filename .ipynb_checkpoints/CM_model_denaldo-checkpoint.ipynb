{
 "cells": [
  {
   "cell_type": "markdown",
   "id": "a052eec8",
   "metadata": {},
   "source": [
    "# Configuration model"
   ]
  },
  {
   "cell_type": "code",
   "execution_count": 1,
   "id": "32271d2c",
   "metadata": {},
   "outputs": [],
   "source": [
    "import networkx as nx\n",
    "import numpy as np\n",
    "import random as rd\n",
    "import matplotlib.pyplot as plt\n",
    "from itertools import chain \n",
    "from itertools import zip_longest"
   ]
  },
  {
   "cell_type": "markdown",
   "id": "97870017",
   "metadata": {},
   "source": [
    "## Parameters\n",
    "\n",
    "The algorithm has 2 input parameters: \n",
    "* N: number of nodes\n",
    "* p_k : nodes degree distribution"
   ]
  },
  {
   "cell_type": "markdown",
   "id": "a8d692ad",
   "metadata": {},
   "source": [
    "Insert the parameters of the algorithm (need to add the checks!!!!!!!!!)"
   ]
  },
  {
   "cell_type": "code",
   "execution_count": 2,
   "id": "979aa466",
   "metadata": {},
   "outputs": [
    {
     "name": "stdout",
     "output_type": "stream",
     "text": [
      "\n",
      "Insert number of nodes:\n",
      "30\n"
     ]
    }
   ],
   "source": [
    "# Insert Number of Nodes\n",
    "N = int(input(\"\\nInsert number of nodes:\\n\"))"
   ]
  },
  {
   "cell_type": "markdown",
   "id": "ce642633",
   "metadata": {},
   "source": [
    "### Distribution choice\n",
    "Try at least with a Poisson (---> generates a ER network) and with a powerlaw distribution (--> generates a SF network)"
   ]
  },
  {
   "cell_type": "markdown",
   "id": "6a2338da",
   "metadata": {},
   "source": [
    "#### Powerlaw distribution"
   ]
  },
  {
   "cell_type": "code",
   "execution_count": 3,
   "id": "36ac9c87",
   "metadata": {},
   "outputs": [
    {
     "data": {
      "text/plain": [
       "[2,\n",
       " 1,\n",
       " 2,\n",
       " 2,\n",
       " 6,\n",
       " 11,\n",
       " 2,\n",
       " 1,\n",
       " 1,\n",
       " 2,\n",
       " 3,\n",
       " 2,\n",
       " 1,\n",
       " 1,\n",
       " 6,\n",
       " 1,\n",
       " 30,\n",
       " 1,\n",
       " 1,\n",
       " 2,\n",
       " 1,\n",
       " 1,\n",
       " 10,\n",
       " 1,\n",
       " 2,\n",
       " 1,\n",
       " 1,\n",
       " 2,\n",
       " 1,\n",
       " 2]"
      ]
     },
     "execution_count": 3,
     "metadata": {},
     "output_type": "execute_result"
    }
   ],
   "source": [
    "# distribution exponent\n",
    "gamma = 2.2\n",
    "\n",
    "seq=nx.utils.powerlaw_sequence(N,exponent=gamma)\n",
    "# round to integer values in the range [0,N]\n",
    "sequence=[min(N, max( int(round(s)),0 )) for s in seq]\n",
    "\n",
    "# The degree sequence needs to have an even sum\n",
    "while sum(sequence) % 2 != 0:\n",
    "    seq=nx.utils.powerlaw_sequence(N,exponent=gamma)\n",
    "    sequence=[min(N, max( int(round(s)),0 )) for s in seq]\n",
    "\n",
    "sequence"
   ]
  },
  {
   "cell_type": "markdown",
   "id": "a0e9a53e",
   "metadata": {},
   "source": [
    "#### Poisson distribution"
   ]
  },
  {
   "cell_type": "code",
   "execution_count": null,
   "id": "65c30038",
   "metadata": {},
   "outputs": [],
   "source": []
  },
  {
   "cell_type": "markdown",
   "id": "e3393561",
   "metadata": {},
   "source": [
    "## Algorithm\n",
    "We need now to build a random graph/network with this degree sequence. <br>\n",
    "Let's build before an empty graph"
   ]
  },
  {
   "cell_type": "code",
   "execution_count": 4,
   "id": "469c9e80",
   "metadata": {},
   "outputs": [],
   "source": [
    "G = nx.empty_graph(N, create_using = nx.MultiGraph) # MultiGraph because of self-loops"
   ]
  },
  {
   "cell_type": "markdown",
   "id": "f1d5386d",
   "metadata": {},
   "source": [
    "We need now to create the vector of slots, i.e. a list of available degree-repeated nodes. <br>\n",
    "\n",
    "Then, we'll shuffle the slots list in order to get a random sequence of node pairs."
   ]
  },
  {
   "cell_type": "code",
   "execution_count": 5,
   "id": "b57046b2",
   "metadata": {},
   "outputs": [
    {
     "data": {
      "text/plain": [
       "[0,\n",
       " 0,\n",
       " 1,\n",
       " 2,\n",
       " 2,\n",
       " 3,\n",
       " 3,\n",
       " 4,\n",
       " 4,\n",
       " 4,\n",
       " 4,\n",
       " 4,\n",
       " 4,\n",
       " 5,\n",
       " 5,\n",
       " 5,\n",
       " 5,\n",
       " 5,\n",
       " 5,\n",
       " 5,\n",
       " 5,\n",
       " 5,\n",
       " 5,\n",
       " 5,\n",
       " 6,\n",
       " 6,\n",
       " 7,\n",
       " 8,\n",
       " 9,\n",
       " 9,\n",
       " 10,\n",
       " 10,\n",
       " 10,\n",
       " 11,\n",
       " 11,\n",
       " 12,\n",
       " 13,\n",
       " 14,\n",
       " 14,\n",
       " 14,\n",
       " 14,\n",
       " 14,\n",
       " 14,\n",
       " 15,\n",
       " 16,\n",
       " 16,\n",
       " 16,\n",
       " 16,\n",
       " 16,\n",
       " 16,\n",
       " 16,\n",
       " 16,\n",
       " 16,\n",
       " 16,\n",
       " 16,\n",
       " 16,\n",
       " 16,\n",
       " 16,\n",
       " 16,\n",
       " 16,\n",
       " 16,\n",
       " 16,\n",
       " 16,\n",
       " 16,\n",
       " 16,\n",
       " 16,\n",
       " 16,\n",
       " 16,\n",
       " 16,\n",
       " 16,\n",
       " 16,\n",
       " 16,\n",
       " 16,\n",
       " 16,\n",
       " 17,\n",
       " 18,\n",
       " 19,\n",
       " 19,\n",
       " 20,\n",
       " 21,\n",
       " 22,\n",
       " 22,\n",
       " 22,\n",
       " 22,\n",
       " 22,\n",
       " 22,\n",
       " 22,\n",
       " 22,\n",
       " 22,\n",
       " 22,\n",
       " 23,\n",
       " 24,\n",
       " 24,\n",
       " 25,\n",
       " 26,\n",
       " 27,\n",
       " 27,\n",
       " 28,\n",
       " 29,\n",
       " 29]"
      ]
     },
     "execution_count": 5,
     "metadata": {},
     "output_type": "execute_result"
    }
   ],
   "source": [
    "slots = list(chain.from_iterable([n] * d for n, d in enumerate(sequence)))\n",
    "slots"
   ]
  },
  {
   "cell_type": "markdown",
   "id": "4ade0638",
   "metadata": {},
   "source": [
    "Shuffle the slots list"
   ]
  },
  {
   "cell_type": "code",
   "execution_count": 6,
   "id": "b4c49393",
   "metadata": {},
   "outputs": [
    {
     "data": {
      "text/plain": [
       "[16,\n",
       " 16,\n",
       " 16,\n",
       " 16,\n",
       " 21,\n",
       " 5,\n",
       " 16,\n",
       " 8,\n",
       " 6,\n",
       " 7,\n",
       " 4,\n",
       " 5,\n",
       " 29,\n",
       " 0,\n",
       " 22,\n",
       " 16,\n",
       " 16,\n",
       " 5,\n",
       " 24,\n",
       " 16,\n",
       " 16,\n",
       " 14,\n",
       " 22,\n",
       " 16,\n",
       " 25,\n",
       " 9,\n",
       " 19,\n",
       " 3,\n",
       " 16,\n",
       " 27,\n",
       " 16,\n",
       " 5,\n",
       " 22,\n",
       " 26,\n",
       " 22,\n",
       " 5,\n",
       " 16,\n",
       " 16,\n",
       " 16,\n",
       " 22,\n",
       " 4,\n",
       " 5,\n",
       " 22,\n",
       " 16,\n",
       " 11,\n",
       " 10,\n",
       " 27,\n",
       " 13,\n",
       " 16,\n",
       " 22,\n",
       " 16,\n",
       " 10,\n",
       " 9,\n",
       " 5,\n",
       " 16,\n",
       " 14,\n",
       " 28,\n",
       " 16,\n",
       " 16,\n",
       " 23,\n",
       " 16,\n",
       " 16,\n",
       " 16,\n",
       " 3,\n",
       " 16,\n",
       " 16,\n",
       " 29,\n",
       " 14,\n",
       " 22,\n",
       " 5,\n",
       " 14,\n",
       " 5,\n",
       " 18,\n",
       " 2,\n",
       " 20,\n",
       " 4,\n",
       " 0,\n",
       " 14,\n",
       " 12,\n",
       " 19,\n",
       " 4,\n",
       " 22,\n",
       " 11,\n",
       " 1,\n",
       " 4,\n",
       " 15,\n",
       " 6,\n",
       " 16,\n",
       " 5,\n",
       " 17,\n",
       " 16,\n",
       " 16,\n",
       " 22,\n",
       " 5,\n",
       " 4,\n",
       " 2,\n",
       " 24,\n",
       " 14,\n",
       " 10,\n",
       " 16]"
      ]
     },
     "execution_count": 6,
     "metadata": {},
     "output_type": "execute_result"
    }
   ],
   "source": [
    "np.random.shuffle(slots)\n",
    "slots"
   ]
  },
  {
   "cell_type": "markdown",
   "id": "4e5d2586",
   "metadata": {},
   "source": [
    "We can now bipartition the shuffled slot vector to have a random pairing of nodes. <br>\n",
    "In that way we can use the add_edges_from function of networkx"
   ]
  },
  {
   "cell_type": "code",
   "execution_count": 10,
   "id": "f136bc3d",
   "metadata": {},
   "outputs": [
    {
     "data": {
      "text/plain": [
       "[3,\n",
       " 2,\n",
       " 1,\n",
       " 6,\n",
       " 1,\n",
       " 3,\n",
       " 1,\n",
       " 1,\n",
       " 2,\n",
       " 1,\n",
       " 3,\n",
       " 7,\n",
       " 2,\n",
       " 1,\n",
       " 2,\n",
       " 4,\n",
       " 3,\n",
       " 4,\n",
       " 1,\n",
       " 8,\n",
       " 1,\n",
       " 5,\n",
       " 1,\n",
       " 1,\n",
       " 1,\n",
       " 1,\n",
       " 1,\n",
       " 1,\n",
       " 1,\n",
       " 1,\n",
       " 4,\n",
       " 1,\n",
       " 1,\n",
       " 1,\n",
       " 1,\n",
       " 1,\n",
       " 3,\n",
       " 5,\n",
       " 9,\n",
       " 1,\n",
       " 5,\n",
       " 10,\n",
       " 1,\n",
       " 11,\n",
       " 1,\n",
       " 1,\n",
       " 1,\n",
       " 1,\n",
       " 3,\n",
       " 3]"
      ]
     },
     "execution_count": 10,
     "metadata": {},
     "output_type": "execute_result"
    }
   ],
   "source": [
    "half = len(slots) // 2\n",
    "\n",
    "out_slots, in_slots = slots[:half], slots[half:]\n",
    "G.add_edges_from(zip(out_slots, in_slots))"
   ]
  },
  {
   "cell_type": "code",
   "execution_count": 11,
   "id": "9a29f566",
   "metadata": {},
   "outputs": [
    {
     "data": {
      "text/plain": [
       "NodeView((0, 1, 2, 3, 4, 5, 6, 7, 8, 9, 10, 11, 12, 13, 14, 15, 16, 17, 18, 19, 20, 21, 22, 23, 24, 25, 26, 27, 28, 29))"
      ]
     },
     "execution_count": 11,
     "metadata": {},
     "output_type": "execute_result"
    }
   ],
   "source": [
    "G.nodes()"
   ]
  },
  {
   "cell_type": "code",
   "execution_count": 14,
   "id": "2af0874d",
   "metadata": {},
   "outputs": [
    {
     "data": {
      "text/plain": [
       "30"
      ]
     },
     "execution_count": 14,
     "metadata": {},
     "output_type": "execute_result"
    }
   ],
   "source": [
    "len(G.nodes())"
   ]
  },
  {
   "cell_type": "code",
   "execution_count": 12,
   "id": "14ee6acd",
   "metadata": {},
   "outputs": [
    {
     "data": {
      "text/plain": [
       "MultiEdgeDataView([(0, 3), (0, 3), (0, 19), (0, 19), (1, 26), (1, 26), (2, 16), (2, 16), (2, 10), (2, 10), (3, 14), (3, 14), (4, 16), (4, 16), (4, 16), (4, 16), (4, 16), (4, 16), (4, 9), (4, 9), (4, 22), (4, 22), (4, 11), (4, 11), (5, 16), (5, 16), (5, 16), (5, 16), (5, 16), (5, 16), (5, 16), (5, 16), (5, 16), (5, 16), (5, 16), (5, 16), (5, 14), (5, 14), (5, 14), (5, 14), (5, 14), (5, 14), (5, 22), (5, 22), (5, 15), (5, 15), (6, 16), (6, 16), (6, 16), (6, 16), (7, 23), (7, 23), (8, 16), (8, 16), (9, 16), (9, 16), (10, 16), (10, 16), (10, 16), (10, 16), (11, 22), (11, 22), (12, 16), (12, 16), (13, 14), (13, 14), (14, 16), (14, 16), (16, 16), (16, 16), (16, 16), (16, 16), (16, 16), (16, 16), (16, 21), (16, 21), (16, 28), (16, 28), (16, 29), (16, 29), (16, 29), (16, 29), (16, 22), (16, 22), (16, 22), (16, 22), (17, 22), (17, 22), (18, 22), (18, 22), (19, 27), (19, 27), (20, 25), (20, 25), (22, 24), (22, 24), (22, 22), (22, 22), (24, 27), (24, 27)])"
      ]
     },
     "execution_count": 12,
     "metadata": {},
     "output_type": "execute_result"
    }
   ],
   "source": [
    "G.edges()"
   ]
  },
  {
   "cell_type": "code",
   "execution_count": 13,
   "id": "ab4528c8",
   "metadata": {},
   "outputs": [
    {
     "data": {
      "text/plain": [
       "100"
      ]
     },
     "execution_count": 13,
     "metadata": {},
     "output_type": "execute_result"
    }
   ],
   "source": [
    "len(G.edges)"
   ]
  },
  {
   "cell_type": "code",
   "execution_count": null,
   "id": "b8531f1b",
   "metadata": {},
   "outputs": [],
   "source": [
    "nx.write_pajek(G, \"test.net\")\n",
    "#nx.write_gexf(G, \"test.gexf\")\n",
    "\n"
   ]
  },
  {
   "cell_type": "markdown",
   "id": "682db6de",
   "metadata": {},
   "source": [
    "## Network descriptors"
   ]
  },
  {
   "cell_type": "code",
   "execution_count": null,
   "id": "ebfa5479",
   "metadata": {},
   "outputs": [],
   "source": [
    "print(\"Number of nodes: {}\".format(G.number_of_nodes()))\n",
    "#G.nodes()\n",
    "\n",
    "print(\"Number of edges: {}\".format(G.number_of_edges()))\n",
    "#G.edges()\n",
    "\n",
    "degrees_values = [val for key,val in G.degree()] # degree for each node\n",
    "#degrees_values\n",
    "\n",
    "print(\"Min degree: {}\".format(np.min(degrees_values)))\n",
    "print(\"Max degree: {}\".format(np.max(degrees_values)))\n",
    "print(\"Avg degree: {}\".format(round(np.mean(degrees_values), 4)))\n",
    "G = nx.Graph(G)\n",
    "\n",
    "print(\"Clustering: {}\".format(round(nx.average_clustering(G), 4)))\n",
    "print(\"Assortativity: {}\".format(round(nx.degree_assortativity_coefficient(G), 4)))\n",
    "print(\"Avg path length: {}\".format(round(nx.average_shortest_path_length(G), 4)))\n",
    "print(\"Avg path: {}\".format(nx.diameter(G)))"
   ]
  },
  {
   "cell_type": "markdown",
   "id": "f6326c8f",
   "metadata": {},
   "source": [
    "## Plots\n",
    "Maybe plotting with Gephi, ....."
   ]
  },
  {
   "cell_type": "markdown",
   "id": "8b691cac",
   "metadata": {},
   "source": [
    "### Plotting the network"
   ]
  },
  {
   "cell_type": "code",
   "execution_count": null,
   "id": "34a6ee3e",
   "metadata": {},
   "outputs": [],
   "source": [
    "nx.draw(G, alpha = .2, edge_color = '#40a6d1', node_color = '#40a6d1', node_size=30, with_labels = True)"
   ]
  },
  {
   "cell_type": "markdown",
   "id": "b22eccde",
   "metadata": {},
   "source": [
    "### Plotting the distribution"
   ]
  },
  {
   "cell_type": "markdown",
   "id": "c40f1398",
   "metadata": {},
   "source": [
    "K_distr() function  for visualizing the distribution using linear or log-log scale.\n",
    "\n",
    "Degree distribution of Barabási–Albert network is k**(-3) and so it gives a straight line in log-log scale."
   ]
  },
  {
   "cell_type": "code",
   "execution_count": null,
   "id": "31e26c02",
   "metadata": {},
   "outputs": [],
   "source": [
    "# Plotting\n",
    "\n",
    "def k_distrib(graph, scale='lin', colour='#40a6d1', alpha=.8, fit_line=False, expct_lo=1, expct_hi=10, expct_const=1):\n",
    "    \n",
    "    plt.close()\n",
    "    num_nodes = graph.number_of_nodes()\n",
    "    max_degree = 0\n",
    "    \n",
    "    # Calculate the maximum degree to know the range of x-axis\n",
    "    for n in graph.nodes():\n",
    "        if graph.degree(n) > max_degree:\n",
    "            max_degree = graph.degree(n)\n",
    "    \n",
    "    # X-axis and y-axis values\n",
    "    x = []\n",
    "    y_tmp = []\n",
    "    \n",
    "    # Loop over all degrees until the maximum to compute the portion of nodes for that degree\n",
    "    for i in range(max_degree + 1):\n",
    "        x.append(i)\n",
    "        y_tmp.append(0)\n",
    "        for n in graph.nodes():\n",
    "            if graph.degree(n) == i:\n",
    "                y_tmp[i] += 1\n",
    "        y = [i / num_nodes for i in y_tmp] \n",
    "    \n",
    "    # Check for the lin / log parameter and set axes scale\n",
    "    if scale == 'log':\n",
    "        plt.xscale('log')\n",
    "        plt.yscale('log')\n",
    "        plt.title('Degree distribution (log-log scale)')\n",
    "        plt.ylabel('log(P(k))')\n",
    "        plt.xlabel('log(k)')\n",
    "        plt.plot(x, y, linewidth = 0, marker = 'o', markersize = 8, color = colour, alpha = alpha)\n",
    "        \n",
    "        if fit_line:\n",
    "            # Add theoretical distribution line k^-3\n",
    "            # Note that you need to parametrize it manually\n",
    "            w = [a for a in range(expct_lo,expct_hi)]\n",
    "            z = []\n",
    "            for i in w:\n",
    "                x = (i**-3) * expct_const # set line's length and fit intercept\n",
    "                z.append(x)\n",
    "\n",
    "            plt.plot(w, z, 'k-', color='#7f7f7f')\n",
    "            \n",
    "    else:\n",
    "        plt.plot(x, y, linewidth = 0, marker = 'o', markersize = 8, color = colour, alpha = alpha)\n",
    "        plt.title('Degree distribution (linear scale)')\n",
    "        plt.ylabel('P(k)')\n",
    "        plt.xlabel('k')\n",
    "\n",
    "    plt.show()"
   ]
  },
  {
   "cell_type": "markdown",
   "id": "532ded86",
   "metadata": {},
   "source": [
    "\n",
    "* Linear scale example"
   ]
  },
  {
   "cell_type": "code",
   "execution_count": null,
   "id": "f7287973",
   "metadata": {},
   "outputs": [],
   "source": [
    "k_distrib(graph=G, colour='#40a6d1', alpha=.8)"
   ]
  },
  {
   "cell_type": "markdown",
   "id": "538a2bd7",
   "metadata": {},
   "source": [
    "* Log-log scale example"
   ]
  },
  {
   "cell_type": "code",
   "execution_count": null,
   "id": "caa29966",
   "metadata": {},
   "outputs": [],
   "source": [
    "k_distrib(graph=G, colour='#40a6d1', scale='log', alpha=.8, fit_line=True, expct_lo=1, expct_hi=40, expct_const=35)"
   ]
  },
  {
   "cell_type": "markdown",
   "id": "2ac20c59",
   "metadata": {},
   "source": [
    "### Degree distribution plots"
   ]
  },
  {
   "cell_type": "code",
   "execution_count": null,
   "id": "79554501",
   "metadata": {},
   "outputs": [],
   "source": [
    "# Auxiliary function to create logaritmically spaced bins (for log-log histogram) by specifying the number of bins\n",
    "def create_log_bins(degrees, num = 20):\n",
    "    bins = np.logspace(np.log10(np.min(degrees)), np.log10(np.max(degrees)), num)\n",
    "    bins = np.array(bins)\n",
    "    return bins"
   ]
  },
  {
   "cell_type": "code",
   "execution_count": null,
   "id": "2d87ace4",
   "metadata": {},
   "outputs": [],
   "source": [
    "# PDF histogram in linear scale\n",
    "def plot_linear_PDF(G, name='', nbins = 15):\n",
    "    degrees = [G.degree(n) for n in G.nodes()]\n",
    "    #plt.figure(figsize=(12,8))\n",
    "    plt.title('PDF in linear scale', fontsize=15)\n",
    "    plt.xlabel('Degree', fontsize=13)\n",
    "    plt.ylabel('PDF', fontsize=13)\n",
    "    plt.hist(degrees, bins=nbins, density = True, cumulative = False)\n",
    "    plt.tight_layout()\n",
    "    plt.style.use('ggplot')\n",
    "        \n",
    "#plot_linear_PDF(G)"
   ]
  },
  {
   "cell_type": "code",
   "execution_count": null,
   "id": "dee6e4f7",
   "metadata": {},
   "outputs": [],
   "source": [
    "# PDF histogram in Log-Log scale\n",
    "def plot_loglog_PDF(G, name=\"\", nbins=20):\n",
    "    degrees = [G.degree(n) for n in G.nodes()]\n",
    "    \n",
    "    # creating logaritmically spaced bins\n",
    "    bins = create_log_bins(degrees, num = nbins)\n",
    "    \n",
    "    #plt.figure(figsize=(12,8))\n",
    "    plt.title('PDF in log-log scale',  fontsize=15)\n",
    "    plt.xlabel('Degree', fontsize=13)\n",
    "    plt.ylabel('PDF', fontsize=13)\n",
    "    plt.yscale('log')\n",
    "    plt.xscale('log')\n",
    "    plt.hist(degrees, bins=bins, density = True, cumulative = False)\n",
    "    plt.tight_layout()\n",
    "    #plt.style.use('ggplot')\n",
    "\n",
    "#plot_loglog_PDF(G)"
   ]
  },
  {
   "cell_type": "code",
   "execution_count": null,
   "id": "c17bb188",
   "metadata": {},
   "outputs": [],
   "source": [
    "# CCDF histogram in linear scale\n",
    "def plot_linear_CCDF(G, name=\"\", nbins=30):\n",
    "    degrees = [G.degree(n) for n in G.nodes()]\n",
    "    #plt.figure(figsize=(12,8))\n",
    "    plt.title('CCDF in linear scale', fontsize=15)\n",
    "    plt.xlabel('Degree', fontsize=13)\n",
    "    plt.ylabel('CCDF', fontsize=13)\n",
    "    plt.hist(degrees, bins=nbins, density = True, cumulative = -1)\n",
    "    plt.tight_layout()\n",
    "    #plt.style.use('ggplot')\n",
    "\n",
    "#plot_linear_CCDF(G)"
   ]
  },
  {
   "cell_type": "code",
   "execution_count": null,
   "id": "057afdc1",
   "metadata": {},
   "outputs": [],
   "source": [
    "# CCDF histogram in Log-Log scale\n",
    "def plot_loglog_CCDF(G, name=\"\", nbins=30):\n",
    "    degrees = [G.degree(n) for n in G.nodes()]\n",
    "    \n",
    "    # creating logaritmically spaced bins\n",
    "    bins = create_log_bins(degrees, num=nbins)\n",
    "    \n",
    "    #plt.figure(figsize=(12,8))\n",
    "    plt.title('CCDF in log-log scale', fontsize=15)\n",
    "    plt.xlabel('Degree', fontsize=13)\n",
    "    plt.ylabel('CCDF', fontsize=13)\n",
    "    plt.yscale('log')\n",
    "    plt.xscale('log')\n",
    "    plt.hist(degrees, bins=bins, density = True, cumulative = -1)\n",
    "    plt.tight_layout()\n",
    "    #plt.style.use('ggplot')\n",
    "    \n",
    "\n",
    "#plot_loglog_CCDF(G)"
   ]
  },
  {
   "cell_type": "code",
   "execution_count": null,
   "id": "69f5ec77",
   "metadata": {},
   "outputs": [],
   "source": [
    "plt.figure(figsize=(12,4))\n",
    "plt.subplot(1, 2, 1)\n",
    "plot_linear_PDF(G, nbins=20) \n",
    "plt.subplot(1, 2, 2)\n",
    "plot_loglog_PDF(G, nbins=20)\n",
    "plt.show()"
   ]
  },
  {
   "cell_type": "code",
   "execution_count": null,
   "id": "58cb06d0",
   "metadata": {},
   "outputs": [],
   "source": [
    "plt.figure(figsize=(12,4))\n",
    "plt.subplot(1, 2, 1)\n",
    "plot_linear_CCDF(G, nbins=20) \n",
    "plt.subplot(1, 2, 2)\n",
    "plot_loglog_CCDF(G, nbins=20)\n",
    "plt.show()"
   ]
  },
  {
   "cell_type": "markdown",
   "id": "1be16c1e",
   "metadata": {},
   "source": [
    "## Estimation of the exponent for the empirical degree distributions of BA and CM(SF), for the networks of size N>=1000."
   ]
  },
  {
   "cell_type": "markdown",
   "id": "332d6505",
   "metadata": {},
   "source": [
    "We can use the powerlaw Python package described here: https://arxiv.org/abs/1305.0215, which is based on a MLE"
   ]
  },
  {
   "cell_type": "code",
   "execution_count": null,
   "id": "132909cf",
   "metadata": {},
   "outputs": [],
   "source": [
    "#pip install powerlaw\n",
    "#pip install mpmath "
   ]
  },
  {
   "cell_type": "code",
   "execution_count": null,
   "id": "17f4942a",
   "metadata": {},
   "outputs": [],
   "source": [
    "import powerlaw\n",
    "degrees = [G.degree(n) for n in G.nodes()]\n",
    "#results = powerlaw.Fit(degrees, discrete = True)\n",
    "results = powerlaw.Fit(degrees)\n",
    "#print(round(results.power_law.alpha, 4))\n",
    "results.truncated_power_law.parameter1 # power law  parameter (alpha)\n",
    "#results.truncated_power_law.parameter2 # exponential cut-off parameter (beta)\n",
    "#print(results.power_law.xmin)"
   ]
  },
  {
   "cell_type": "markdown",
   "id": "442c9cbf",
   "metadata": {},
   "source": [
    "### Using Linear Regression"
   ]
  },
  {
   "cell_type": "code",
   "execution_count": null,
   "id": "c23ad4e1",
   "metadata": {},
   "outputs": [],
   "source": []
  }
 ],
 "metadata": {
  "kernelspec": {
   "display_name": "Python 3 (ipykernel)",
   "language": "python",
   "name": "python3"
  },
  "language_info": {
   "codemirror_mode": {
    "name": "ipython",
    "version": 3
   },
   "file_extension": ".py",
   "mimetype": "text/x-python",
   "name": "python",
   "nbconvert_exporter": "python",
   "pygments_lexer": "ipython3",
   "version": "3.9.7"
  }
 },
 "nbformat": 4,
 "nbformat_minor": 5
}
