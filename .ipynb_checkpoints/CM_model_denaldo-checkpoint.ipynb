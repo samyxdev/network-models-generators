{
 "cells": [
  {
   "cell_type": "markdown",
   "id": "a052eec8",
   "metadata": {},
   "source": [
    "# Configuration model (CM)"
   ]
  },
  {
   "cell_type": "code",
   "execution_count": 1,
   "id": "32271d2c",
   "metadata": {},
   "outputs": [],
   "source": [
    "import networkx as nx\n",
    "import numpy as np\n",
    "import random as rd\n",
    "import math\n",
    "import matplotlib.pyplot as plt\n",
    "from scipy import stats # to do regression for the estimation of the exponent\n",
    "from scipy.stats import poisson\n",
    "from network_utils import *"
   ]
  },
  {
   "cell_type": "markdown",
   "id": "97870017",
   "metadata": {},
   "source": [
    "## Parameters\n",
    "\n",
    "The algorithm has 2 input parameters: \n",
    "* N: number of nodes\n",
    "* p_k : nodes degree distribution"
   ]
  },
  {
   "cell_type": "markdown",
   "id": "bb4fcc0d",
   "metadata": {},
   "source": [
    "### Size of the network"
   ]
  },
  {
   "cell_type": "code",
   "execution_count": 2,
   "id": "979aa466",
   "metadata": {},
   "outputs": [
    {
     "name": "stdout",
     "output_type": "stream",
     "text": [
      "Insert number of nodes:\n",
      "10000\n"
     ]
    }
   ],
   "source": [
    "# Insert Number of Nodes\n",
    "N = int(input(\"Insert number of nodes:\\n\"))"
   ]
  },
  {
   "cell_type": "markdown",
   "id": "ce642633",
   "metadata": {},
   "source": [
    "### Distribution choice\n",
    "Choose between: \n",
    "* Poisson degree distribution (---> generates an ER network)\n",
    "* Powerlaw degree distribution (---> generates a SF network)"
   ]
  },
  {
   "cell_type": "code",
   "execution_count": 3,
   "id": "feadbc49",
   "metadata": {
    "scrolled": true
   },
   "outputs": [
    {
     "name": "stdout",
     "output_type": "stream",
     "text": [
      "Choose the probability distribution:\n",
      "--> type 1 for poisson\n",
      "--> type 2 for powerlaw\n",
      "2\n"
     ]
    }
   ],
   "source": [
    "p_k = int(input(\"Choose the probability distribution:\\n--> type 1 for poisson\\n--> type 2 for powerlaw\\n\"))\n",
    "\n",
    "if p_k not in [1, 2]:\n",
    "    raise ValueError(\"Incorrect number!\")"
   ]
  },
  {
   "cell_type": "markdown",
   "id": "0fc630b9",
   "metadata": {},
   "source": [
    "Insert distribution parameter"
   ]
  },
  {
   "cell_type": "code",
   "execution_count": 4,
   "id": "76940c0e",
   "metadata": {},
   "outputs": [
    {
     "name": "stdout",
     "output_type": "stream",
     "text": [
      "Insert gamma parameter:\n",
      "2.8\n"
     ]
    }
   ],
   "source": [
    "if p_k== 1:\n",
    "    lamb = float(input(\"Insert lambda parameter:\\n\"))\n",
    "else:\n",
    "    gamma = float(input(\"Insert gamma parameter:\\n\"))"
   ]
  },
  {
   "cell_type": "markdown",
   "id": "d3878e27",
   "metadata": {},
   "source": [
    "Now, let's build the degrees list according to the chosen probability distribution"
   ]
  },
  {
   "cell_type": "code",
   "execution_count": 5,
   "id": "f0f5e8ae",
   "metadata": {},
   "outputs": [
    {
     "name": "stdout",
     "output_type": "stream",
     "text": [
      "Lenght of the sequence: 10000\n",
      "\n",
      "Sequence of node degrees (first 50 nodes):\n",
      " [6, 1, 11, 1, 2, 1, 1, 1, 1, 1, 1, 1, 2, 1, 1, 2, 1, 1, 1, 2, 1, 2, 1, 6, 1, 2, 1, 2, 1, 1, 2, 1, 3, 1, 2, 1, 1, 8, 2, 3, 1, 3, 4, 2, 1, 1, 2, 1, 1, 2]\n"
     ]
    }
   ],
   "source": [
    "sequence = [1] # degrees list initialized with a 1 to execute the loop\n",
    "\n",
    "# The degree sequence needs to have an even sum\n",
    "while sum(sequence) % 2 != 0:\n",
    "    sequence = []\n",
    "    \n",
    "    # Poisson distribution\n",
    "    if p_k== 1:\n",
    "        sequence = np.random.poisson(lamb, N)\n",
    "         \n",
    "    # Powerlaw distribution\n",
    "    if p_k == 2:\n",
    "        \n",
    "        # Limit the number of self-loops and multiple edges in case of gamma between 2 and 3\n",
    "        if gamma >= 2 and gamma <=3: \n",
    "            k_max = round(math.sqrt(N)) # limit the maximum degree of each node to the square root of N\n",
    "            \n",
    "            # generate dhe degree for each node\n",
    "            for i in range(N):\n",
    "                prob = float(nx.utils.powerlaw_sequence(n = 1,exponent=gamma)[0])\n",
    "                deg = int(round(prob))\n",
    "                \n",
    "                # re-generate the degree if it's above the above defined threshold\n",
    "                while deg > k_max:\n",
    "                    prob = float(nx.utils.powerlaw_sequence(1,exponent=gamma)[0])\n",
    "                    deg = int(round(prob))\n",
    "                sequence.append(deg) # add degree to the degrees list\n",
    "        else:         \n",
    "            seq=nx.utils.powerlaw_sequence(N,exponent=gamma)\n",
    "            # round to integer values in the range [0,N]\n",
    "            sequence = [min(N, max( int(round(s)),0 )) for s in seq]\n",
    "\n",
    "      \n",
    "print(\"Lenght of the sequence: {}\".format(len(sequence)))\n",
    "print(\"\\nSequence of node degrees (first 50 nodes):\\n {}\".format(sequence[:50]))"
   ]
  },
  {
   "cell_type": "markdown",
   "id": "35ddea82",
   "metadata": {},
   "source": [
    "## Algorithm\n",
    "We need now to build a random graph/network with this degree sequence. <br>\n",
    "Let's build before an empty graph of type MultiGraph, which allows self-loops and multiple edges and then we'll remove them"
   ]
  },
  {
   "cell_type": "code",
   "execution_count": 6,
   "id": "469c9e80",
   "metadata": {},
   "outputs": [],
   "source": [
    "G = nx.empty_graph(N, create_using = nx.MultiGraph) # MultiGraph because of self-loops"
   ]
  },
  {
   "cell_type": "markdown",
   "id": "438f96c5",
   "metadata": {},
   "source": [
    "Let's create the list of \"stubs\", i.e. a list of available degree-repeated nodes. "
   ]
  },
  {
   "cell_type": "code",
   "execution_count": 7,
   "id": "b9c1bad0",
   "metadata": {},
   "outputs": [
    {
     "name": "stdout",
     "output_type": "stream",
     "text": [
      "[0, 0, 0, 0, 0, 1, 2, 2, 2, 2, 2, 2, 2, 2, 2, 2, 2, 3, 4, 4, 5, 6, 7, 8, 9, 10, 11, 12, 12, 13, 14, 15, 15, 16, 17, 18, 19, 19, 20, 21, 21, 22, 23, 23, 23, 23, 23, 23, 24]\n"
     ]
    }
   ],
   "source": [
    "#stubs_list = list(chain.from_iterable([n] * d for n, d in enumerate(sequence)))\n",
    "stubs_list = []\n",
    "for i in range(N):\n",
    "    stubs_list += [i for _ in range(sequence[i])]\n",
    "\n",
    "print(stubs_list[1:50])"
   ]
  },
  {
   "cell_type": "markdown",
   "id": "ff9b0306",
   "metadata": {},
   "source": [
    "Shuffle the \"stubs\" list, i.e. perform a random permutation"
   ]
  },
  {
   "cell_type": "code",
   "execution_count": 8,
   "id": "b4c49393",
   "metadata": {},
   "outputs": [
    {
     "name": "stdout",
     "output_type": "stream",
     "text": [
      "[8616, 6886, 9950, 4414, 3649, 7260, 1718, 3113, 5098, 9814, 4805, 1427, 5145, 5159, 3497, 3090, 9343, 2111, 9116, 9858, 2843, 8430, 759, 2352, 6618, 3738, 8294, 9738, 1501, 9224, 9731, 9978, 6980, 8798, 2181, 7492, 5937, 2388, 5791, 791, 2270, 2753, 8853, 3809, 2766, 8563, 9453, 8576, 8076]\n"
     ]
    }
   ],
   "source": [
    "np.random.shuffle(stubs_list)\n",
    "print(stubs_list[1:50])"
   ]
  },
  {
   "cell_type": "markdown",
   "id": "65f9289f",
   "metadata": {},
   "source": [
    "Now we need to creade edges among the nodes in the \"stubs\" list. We could use two different options:\n",
    "* A first option could be to bipartition the shuffled slot vector to have a random pairing of nodes. This allows to use the add_edges_from function of networkx that creates links between the 2 partitions<br>"
   ]
  },
  {
   "cell_type": "code",
   "execution_count": 9,
   "id": "f136bc3d",
   "metadata": {},
   "outputs": [],
   "source": [
    "#half = len(slots) // 2\n",
    "\n",
    "#out_slots, in_slots = stubs_list[:half],stubs_list[half:]\n",
    "#G.add_edges_from(zip(out_slots, in_slots)) # with zip we create a series of tuples from the 2 lists"
   ]
  },
  {
   "cell_type": "markdown",
   "id": "3fccfa8a",
   "metadata": {},
   "source": [
    "* The 2nd option, that is the one we use, is to add edges between consecutive pairs of nodes in the shuffled list <br>"
   ]
  },
  {
   "cell_type": "code",
   "execution_count": 10,
   "id": "815f2b7e",
   "metadata": {},
   "outputs": [],
   "source": [
    "for i in range(0, len(stubs_list), 2):\n",
    "    G.add_edge(stubs_list[i], stubs_list[i+1])"
   ]
  },
  {
   "cell_type": "markdown",
   "id": "4c515e39",
   "metadata": {},
   "source": [
    "### Parallel edges and self-loops\n",
    "Let's first check the presence of self-loops"
   ]
  },
  {
   "cell_type": "code",
   "execution_count": 11,
   "id": "32434f89",
   "metadata": {},
   "outputs": [
    {
     "data": {
      "text/plain": [
       "1"
      ]
     },
     "execution_count": 11,
     "metadata": {},
     "output_type": "execute_result"
    }
   ],
   "source": [
    "# number of self-loops\n",
    "nx.number_of_selfloops(G)"
   ]
  },
  {
   "cell_type": "code",
   "execution_count": 12,
   "id": "9bff7d28",
   "metadata": {},
   "outputs": [
    {
     "data": {
      "text/plain": [
       "[5066]"
      ]
     },
     "execution_count": 12,
     "metadata": {},
     "output_type": "execute_result"
    }
   ],
   "source": [
    "# nodes with a self-loop\n",
    "list(nx.nodes_with_selfloops(G))"
   ]
  },
  {
   "cell_type": "markdown",
   "id": "8376c81f",
   "metadata": {},
   "source": [
    "Multiple edges"
   ]
  },
  {
   "cell_type": "code",
   "execution_count": 13,
   "id": "42b9b6fe",
   "metadata": {},
   "outputs": [
    {
     "data": {
      "text/plain": [
       "2.0"
      ]
     },
     "execution_count": 13,
     "metadata": {},
     "output_type": "execute_result"
    }
   ],
   "source": [
    "arr = nx.to_numpy_matrix(G)\n",
    "num_multiedges = np.sum(arr>=2) / 2 # divide by two as graph is undirected \n",
    "num_multiedges"
   ]
  },
  {
   "cell_type": "code",
   "execution_count": 14,
   "id": "c12cfd27",
   "metadata": {},
   "outputs": [
    {
     "data": {
      "image/png": "[encoded data removed]",
      "text/plain": [
       "<Figure size 1152x648 with 1 Axes>"
      ]
     },
     "metadata": {
      "needs_background": "light"
     },
     "output_type": "display_data"
    }
   ],
   "source": [
    "# Visualize multiple edges\n",
    "plt.figure(figsize=(16,9))\n",
    "plt.imshow(arr, interpolation='nearest', cmap='gray')\n",
    "plt.show()"
   ]
  },
  {
   "cell_type": "markdown",
   "id": "5faf3039",
   "metadata": {},
   "source": [
    "Remove parallel edges and self-loops"
   ]
  },
  {
   "cell_type": "code",
   "execution_count": 15,
   "id": "f93d0789",
   "metadata": {},
   "outputs": [
    {
     "data": {
      "text/plain": [
       "(0, 0)"
      ]
     },
     "execution_count": 15,
     "metadata": {},
     "output_type": "execute_result"
    }
   ],
   "source": [
    "G = nx.Graph(G) # removes parallel edges\n",
    "G.remove_edges_from(nx.selfloop_edges(G)) # removes selfloops\n",
    "\n",
    "arr = nx.to_numpy_matrix(G)\n",
    "num_multiedges = np.sum(arr>=2) / 2 # divide by two as graph is undirected \n",
    "\n",
    "\n",
    "nx.number_of_selfloops(G), int(num_multiedges)"
   ]
  },
  {
   "cell_type": "markdown",
   "id": "d5a95d28",
   "metadata": {},
   "source": [
    "### Save the network"
   ]
  },
  {
   "cell_type": "code",
   "execution_count": 16,
   "id": "b8531f1b",
   "metadata": {},
   "outputs": [],
   "source": [
    "nx.write_pajek(G, \"test.net\")\n",
    "#nx.write_gexf(G, \"test.gexf\")"
   ]
  },
  {
   "cell_type": "markdown",
   "id": "682db6de",
   "metadata": {},
   "source": [
    "## Network descriptors"
   ]
  },
  {
   "cell_type": "code",
   "execution_count": 17,
   "id": "ebfa5479",
   "metadata": {},
   "outputs": [
    {
     "name": "stdout",
     "output_type": "stream",
     "text": [
      "Number of nodes: 10000\n",
      "Number of edges: 10701\n",
      "Min degree: 1\n",
      "Max degree: 89\n",
      "Avg degree: 2.1402\n",
      "Clustering: 0.0006\n",
      "Assortativity: -0.0117\n"
     ]
    }
   ],
   "source": [
    "print(\"Number of nodes: {}\".format(G.number_of_nodes()))\n",
    "#G.nodes()\n",
    "\n",
    "print(\"Number of edges: {}\".format(G.number_of_edges()))\n",
    "#G.edges()\n",
    "\n",
    "degrees_values = [val for key,val in G.degree()] # degree for each node\n",
    "#degrees_values\n",
    "\n",
    "print(\"Min degree: {}\".format(np.min(degrees_values)))\n",
    "print(\"Max degree: {}\".format(np.max(degrees_values)))\n",
    "print(\"Avg degree: {}\".format(round(np.mean(degrees_values), 4)))\n",
    "#G = nx.Graph(G)\n",
    "\n",
    "print(\"Clustering: {}\".format(round(nx.average_clustering(G), 4)))\n",
    "print(\"Assortativity: {}\".format(round(nx.degree_assortativity_coefficient(G), 4)))\n",
    "if nx.is_connected(G):\n",
    "    print(\"Avg path length: {}\".format(round(nx.average_shortest_path_length(G), 4)))\n",
    "    print(\"Diameter: {}\".format(nx.diameter(G)))"
   ]
  },
  {
   "cell_type": "markdown",
   "id": "f6326c8f",
   "metadata": {},
   "source": [
    "## Plots"
   ]
  },
  {
   "cell_type": "markdown",
   "id": "8b691cac",
   "metadata": {},
   "source": [
    "### Plotting the network\n",
    "Plot only small size networks"
   ]
  },
  {
   "cell_type": "code",
   "execution_count": 18,
   "id": "19ff96ad",
   "metadata": {},
   "outputs": [],
   "source": [
    "if N <= 100:\n",
    "    nx.draw(G, alpha = .3, edge_color = '#40a6d1', node_color = '#40a6d1', node_size=30, with_labels = True)"
   ]
  },
  {
   "cell_type": "markdown",
   "id": "b22eccde",
   "metadata": {},
   "source": [
    "### Plotting the distribution"
   ]
  },
  {
   "cell_type": "markdown",
   "id": "c40f1398",
   "metadata": {},
   "source": [
    "We use the auxiliary functions we defined in network_utils for visualizing the distribution using either linear or log-log scale. <br>"
   ]
  },
  {
   "cell_type": "code",
   "execution_count": 19,
   "id": "f7287973",
   "metadata": {},
   "outputs": [
    {
     "name": "stderr",
     "output_type": "stream",
     "text": [
      "C:\\Users\\denal\\OneDrive\\Desktop\\network-models-generators\\network_utils.py:45: UserWarning: color is redundantly defined by the 'color' keyword argument and the fmt string \"k-\" (-> color='k'). The keyword argument will take precedence.\n",
      "  plt.plot(w, z, 'k-', color='#7f7f7f')\n"
     ]
    },
    {
     "data": {
      "image/png": "[encoded data removed]",
      "text/plain": [
       "<Figure size 864x288 with 2 Axes>"
      ]
     },
     "metadata": {
      "needs_background": "light"
     },
     "output_type": "display_data"
    }
   ],
   "source": [
    "plt.figure(figsize=(12,4))\n",
    "plt.style.use('ggplot')\n",
    "\n",
    "# case of Poisson distribution\n",
    "if p_k == 1:\n",
    "    plt.subplot(1, 2, 1)\n",
    "    plot_distrib_lin(graph=G, fit_poisson = True, fit_lambda = lamb, colour='#40a6d1', alpha=.8, expct_lo=0, expct_hi=20)\n",
    "    plt.subplot(1, 2, 2)\n",
    "    plot_distrib_log(graph=G, colour='#40a6d1', alpha=.8, fit_line=False, expct_lo=1, expct_hi=50, expct_const=3)\n",
    "\n",
    "    # powerlaw distribution\n",
    "else:\n",
    "    plt.subplot(1, 2, 1)\n",
    "    plot_distrib_lin(graph=G, colour='#40a6d1', alpha=.8)\n",
    "    plt.subplot(1, 2, 2)\n",
    "    plot_distrib_log(graph=G, colour='#40a6d1', alpha=.8, fit_line=True, expct_lo=1, expct_hi=40, expct_const=35)\n",
    "\n",
    "plt.show()"
   ]
  },
  {
   "cell_type": "markdown",
   "id": "2ac20c59",
   "metadata": {},
   "source": [
    "### Degree distribution histograms"
   ]
  },
  {
   "cell_type": "code",
   "execution_count": 20,
   "id": "79554501",
   "metadata": {},
   "outputs": [],
   "source": [
    "# Auxiliary function to create logaritmically spaced bins (for log-log histogram) by specifying the number of bins\n",
    "def create_log_bins(degrees, num = 20):\n",
    "    bins = np.logspace(np.log10(np.min(degrees)), np.log10(np.max(degrees)), num)\n",
    "    bins = np.array(bins)\n",
    "    return bins"
   ]
  },
  {
   "cell_type": "code",
   "execution_count": 21,
   "id": "2d87ace4",
   "metadata": {},
   "outputs": [],
   "source": [
    "# PDF histogram in linear scale\n",
    "def plot_linear_PDF(G, name='', nbins = 15):\n",
    "    degrees = [G.degree(n) for n in G.nodes()]\n",
    "    #plt.figure(figsize=(12,8))\n",
    "    plt.title('PDF in linear scale', fontsize=15)\n",
    "    plt.xlabel('Degree', fontsize=13)\n",
    "    plt.ylabel('PDF', fontsize=13)\n",
    "    plt.hist(degrees, bins=nbins, density = True, cumulative = False)\n",
    "    plt.tight_layout()\n",
    "    plt.style.use('ggplot')\n",
    "        \n",
    "#plot_linear_PDF(G)"
   ]
  },
  {
   "cell_type": "code",
   "execution_count": 22,
   "id": "dee6e4f7",
   "metadata": {},
   "outputs": [],
   "source": [
    "# PDF histogram in Log-Log scale\n",
    "def plot_loglog_PDF(G, name=\"\", nbins=20):\n",
    "    degrees = [G.degree(n) for n in G.nodes()]\n",
    "    \n",
    "    # creating logaritmically spaced bins\n",
    "    bins = create_log_bins(degrees, num = nbins)\n",
    "    \n",
    "    #plt.figure(figsize=(12,8))\n",
    "    plt.title('PDF in log-log scale',  fontsize=15)\n",
    "    plt.xlabel('Degree', fontsize=13)\n",
    "    plt.ylabel('PDF', fontsize=13)\n",
    "    plt.yscale('log')\n",
    "    plt.xscale('log')\n",
    "    plt.hist(degrees, bins=bins, density = True, cumulative = False)\n",
    "    plt.tight_layout()\n",
    "    #plt.style.use('ggplot')\n",
    "\n",
    "#plot_loglog_PDF(G)"
   ]
  },
  {
   "cell_type": "code",
   "execution_count": 23,
   "id": "c17bb188",
   "metadata": {},
   "outputs": [],
   "source": [
    "# CCDF histogram in linear scale\n",
    "def plot_linear_CCDF(G, name=\"\", nbins=30):\n",
    "    degrees = [G.degree(n) for n in G.nodes()]\n",
    "    #plt.figure(figsize=(12,8))\n",
    "    plt.title('CCDF in linear scale', fontsize=15)\n",
    "    plt.xlabel('Degree', fontsize=13)\n",
    "    plt.ylabel('CCDF', fontsize=13)\n",
    "    plt.hist(degrees, bins=nbins, density = True, cumulative = -1)\n",
    "    plt.tight_layout()\n",
    "    #plt.style.use('ggplot')\n",
    "\n",
    "#plot_linear_CCDF(G)"
   ]
  },
  {
   "cell_type": "code",
   "execution_count": 24,
   "id": "057afdc1",
   "metadata": {},
   "outputs": [],
   "source": [
    "# CCDF histogram in Log-Log scale\n",
    "def plot_loglog_CCDF(G, name=\"\", nbins=30):\n",
    "    degrees = [G.degree(n) for n in G.nodes()]\n",
    "    \n",
    "    # creating logaritmically spaced bins\n",
    "    bins = create_log_bins(degrees, num=nbins)\n",
    "    \n",
    "    #plt.figure(figsize=(12,8))\n",
    "    plt.title('CCDF in log-log scale', fontsize=15)\n",
    "    plt.xlabel('Degree', fontsize=13)\n",
    "    plt.ylabel('CCDF', fontsize=13)\n",
    "    plt.yscale('log')\n",
    "    plt.xscale('log')\n",
    "    plt.hist(degrees, bins=bins, density = True, cumulative = -1)\n",
    "    plt.tight_layout()\n",
    "    #plt.style.use('ggplot')\n",
    "    \n",
    "#plot_loglog_CCDF(G)"
   ]
  },
  {
   "cell_type": "code",
   "execution_count": 25,
   "id": "5d931b9b",
   "metadata": {},
   "outputs": [],
   "source": [
    "# number of bins to use\n",
    "n_bins = 20"
   ]
  },
  {
   "cell_type": "code",
   "execution_count": 26,
   "id": "69f5ec77",
   "metadata": {},
   "outputs": [
    {
     "data": {
      "image/png": "[encoded data removed]",
      "text/plain": [
       "<Figure size 864x288 with 2 Axes>"
      ]
     },
     "metadata": {},
     "output_type": "display_data"
    }
   ],
   "source": [
    "plt.figure(figsize=(12,4))\n",
    "plt.subplot(1, 2, 1)\n",
    "plot_linear_PDF(G, nbins=n_bins) \n",
    "plt.subplot(1, 2, 2)\n",
    "plot_loglog_PDF(G, nbins=n_bins)\n",
    "plt.show()"
   ]
  },
  {
   "cell_type": "code",
   "execution_count": 27,
   "id": "15864b1b",
   "metadata": {},
   "outputs": [
    {
     "data": {
      "image/png": "[encoded data removed]",
      "text/plain": [
       "<Figure size 864x288 with 2 Axes>"
      ]
     },
     "metadata": {},
     "output_type": "display_data"
    }
   ],
   "source": [
    "plt.figure(figsize=(12,4))\n",
    "plt.subplot(1, 2, 1)\n",
    "plot_linear_CCDF(G, nbins=n_bins) \n",
    "plt.subplot(1, 2, 2)\n",
    "plot_loglog_CCDF(G, nbins=n_bins)\n",
    "plt.show()"
   ]
  },
  {
   "cell_type": "markdown",
   "id": "1be16c1e",
   "metadata": {},
   "source": [
    "## Estimation of the exponent for the empirical degree distributions of BA and CM(SF), for the networks of size N>=1000.\n",
    "We'll see 3 main approaches for estimating the exponent of a scale-free network:\n",
    "* MLE\n",
    "* Linear regression on the binned PDF histogram\n",
    "* Linear regression on the binned CCDF histogram\n",
    "\n",
    "Let's see these three approaches and then we'll compare the results obtained by each one of them"
   ]
  },
  {
   "cell_type": "markdown",
   "id": "332d6505",
   "metadata": {},
   "source": [
    "### Using MLE\n",
    "* We can use the <i>powerlaw</i> Python package described here: https://arxiv.org/abs/1305.0215, which is based on a MLE of the exponent of a powerlaw distribution . <br>\n",
    "As described in the paper https://arxiv.org/abs/0706.1062, the <i>powerlaw</i> package we use performs the exponent estimation by following the formula 3.7 <br>\n",
    "According to the paper, the first step to perform a maximum likelihood fit to a powerlaw is to determine what portion of the data to fit. A heavy-tailed\n",
    "distribution's interesting feature is, indeed, the tail and its properties, so if the initial, small values of the data\n",
    "do not follow a power law distribution we may opt to disregard them. The question is from what\n",
    "minimal value xmin (Kmin) the scaling relationship of the power law begins. The methods descibed in the paper of Clauset et al. mentioned above find this optimal value of xmin by creating a powerlaw fit starting from each unique value in the dataset, then selecting the one that results in the minimal Kolmogorov-Smirnov distance, D, between the data and the fit. Therefore the algorithm finds xmin my minimizing D. <br> <br>\n",
    "* While the maximum likelihood fit to a continous power law can be calculated analytically,\n",
    "and thus the optimal xmin and resulting fitted parameters can be computed quickly, this is not so for the discrete case. The maximum likelihood fit for a discrete power law is found by numerical optimization,\n",
    "the computation of which for every possible value of xmin can take time. To circumvent this issue,\n",
    "powerlaw can use an analytic estimate of gamma, from [https://arxiv.org/abs/0706.1062], which can \"give results accurate to about 1% or\n",
    "better provided xmin ≥ 6\".\n",
    "\n",
    "\n"
   ]
  },
  {
   "cell_type": "code",
   "execution_count": null,
   "id": "132909cf",
   "metadata": {},
   "outputs": [],
   "source": [
    "#pip install powerlaw\n",
    "#pip install mpmath "
   ]
  },
  {
   "cell_type": "code",
   "execution_count": 31,
   "id": "17f4942a",
   "metadata": {},
   "outputs": [
    {
     "name": "stdout",
     "output_type": "stream",
     "text": [
      "Calculating best minimal value for power law fit\n",
      "xmin progress: 00%\r",
      "xmin progress: 02%\r",
      "xmin progress: 04%\r",
      "xmin progress: 07%\r",
      "xmin progress: 09%\r",
      "xmin progress: 12%\r",
      "xmin progress: 14%\r",
      "xmin progress: 17%\r",
      "xmin progress: 19%\r",
      "xmin progress: 21%\r",
      "xmin progress: 24%\r",
      "xmin progress: 26%\r",
      "xmin progress: 29%\r",
      "xmin progress: 31%\r",
      "xmin progress: 34%\r",
      "xmin progress: 36%\r",
      "xmin progress: 39%\r",
      "xmin progress: 41%\r",
      "xmin progress: 43%\r",
      "xmin progress: 46%\r",
      "xmin progress: 48%\r",
      "xmin progress: 51%\r",
      "xmin progress: 53%\r",
      "xmin progress: 56%\r",
      "xmin progress: 58%\r",
      "xmin progress: 60%\r",
      "xmin progress: 63%\r",
      "xmin progress: 65%\r",
      "xmin progress: 68%\r",
      "xmin progress: 70%\r",
      "xmin progress: 73%\r",
      "xmin progress: 75%\r",
      "xmin progress: 78%\r",
      "xmin progress: 80%\r",
      "xmin progress: 82%\r",
      "xmin progress: 85%\r",
      "xmin progress: 87%\r",
      "xmin progress: 90%\r",
      "xmin progress: 92%\r",
      "xmin progress: 95%\r",
      "xmin progress: 97%\r\n",
      "\n",
      "Exponent estimation:\n",
      "2.7899\n"
     ]
    }
   ],
   "source": [
    "import powerlaw\n",
    "\n",
    "degrees = [G.degree(n) for n in G.nodes()]\n",
    "results = powerlaw.Fit(degrees, discrete = True)\n",
    "print(\"\\n\\nExponent estimation:\")\n",
    "print(round(results.power_law.alpha, 4))\n",
    "#print(results.power_law.xmin)"
   ]
  },
  {
   "cell_type": "markdown",
   "id": "442c9cbf",
   "metadata": {},
   "source": [
    "### Using Linear Regression"
   ]
  },
  {
   "cell_type": "code",
   "execution_count": 32,
   "id": "12b38a1c",
   "metadata": {},
   "outputs": [
    {
     "data": {
      "text/plain": [
       "(1, 89)"
      ]
     },
     "execution_count": 32,
     "metadata": {},
     "output_type": "execute_result"
    }
   ],
   "source": [
    "# find min and max of the degrees\n",
    "Kmin = np.min(degrees)\n",
    "Kmax = np.max(degrees)\n",
    "\n",
    "Kmin, Kmax"
   ]
  },
  {
   "cell_type": "code",
   "execution_count": 33,
   "id": "cdd2e4f0",
   "metadata": {},
   "outputs": [],
   "source": [
    "# calculate the logarithm of K_i for all the data elements\n",
    "log_degrees = [np.log10(G.degree(n)) for n in G.nodes()]\n",
    "#log_degrees"
   ]
  },
  {
   "cell_type": "code",
   "execution_count": 34,
   "id": "3446a812",
   "metadata": {},
   "outputs": [
    {
     "data": {
      "text/plain": [
       "(0.0, 1.954242509439325)"
      ]
     },
     "execution_count": 34,
     "metadata": {},
     "output_type": "execute_result"
    }
   ],
   "source": [
    "# calculate useful logs\n",
    "log_Kmin = np.log10(Kmin)\n",
    "#log_Kmax = np.log10(Kmax)\n",
    "log_Kmax_1 = np.log10(Kmax + 1)\n",
    "log_Kmin, log_Kmax_1"
   ]
  },
  {
   "cell_type": "markdown",
   "id": "bd0752e7",
   "metadata": {},
   "source": [
    "Divide the interval in equal size bins and build the bind"
   ]
  },
  {
   "cell_type": "code",
   "execution_count": 35,
   "id": "cc5421d1",
   "metadata": {},
   "outputs": [
    {
     "data": {
      "text/plain": [
       "[0.0,\n",
       " 0.09771212547196625,\n",
       " 0.1954242509439325,\n",
       " 0.29313637641589874,\n",
       " 0.390848501887865,\n",
       " 0.4885606273598313,\n",
       " 0.5862727528317975,\n",
       " 0.6839848783037638,\n",
       " 0.78169700377573,\n",
       " 0.8794091292476963,\n",
       " 0.9771212547196626,\n",
       " 1.0748333801916288,\n",
       " 1.172545505663595,\n",
       " 1.2702576311355613,\n",
       " 1.3679697566075275,\n",
       " 1.465681882079494,\n",
       " 1.56339400755146,\n",
       " 1.6611061330234262,\n",
       " 1.7588182584953926,\n",
       " 1.8565303839673588,\n",
       " 1.954242509439325]"
      ]
     },
     "execution_count": 35,
     "metadata": {},
     "output_type": "execute_result"
    }
   ],
   "source": [
    "# length of the interval\n",
    "interval_length = (log_Kmax_1 - log_Kmin) / n_bins\n",
    "\n",
    "# build the bins\n",
    "bins = []\n",
    "for i in range(n_bins):\n",
    "    bins.append(log_Kmin + interval_length * i)\n",
    "bins.append(log_Kmax_1)\n",
    "bins"
   ]
  },
  {
   "cell_type": "code",
   "execution_count": 36,
   "id": "2e1efe2a",
   "metadata": {},
   "outputs": [
    {
     "data": {
      "text/plain": [
       "[5226,\n",
       " 0,\n",
       " 0,\n",
       " 2780,\n",
       " 914,\n",
       " 0,\n",
       " 406,\n",
       " 347,\n",
       " 61,\n",
       " 102,\n",
       " 42,\n",
       " 48,\n",
       " 17,\n",
       " 23,\n",
       " 12,\n",
       " 9,\n",
       " 5,\n",
       " 5,\n",
       " 1,\n",
       " 2]"
      ]
     },
     "execution_count": 36,
     "metadata": {},
     "output_type": "execute_result"
    }
   ],
   "source": [
    "# Count how many elements ki have their log(ki) in each bin\n",
    "counts = []\n",
    "for i in range(n_bins):\n",
    "    counts.append(len([deg for deg in log_degrees if deg >= bins[i] and deg < bins[i+1]]))\n",
    "\n",
    "counts"
   ]
  },
  {
   "cell_type": "code",
   "execution_count": 37,
   "id": "6916cc68",
   "metadata": {},
   "outputs": [
    {
     "data": {
      "text/plain": [
       "[0.5226,\n",
       " 0.0,\n",
       " 0.0,\n",
       " 0.278,\n",
       " 0.0914,\n",
       " 0.0,\n",
       " 0.0406,\n",
       " 0.0347,\n",
       " 0.0061,\n",
       " 0.0102,\n",
       " 0.0042,\n",
       " 0.0048,\n",
       " 0.0017,\n",
       " 0.0023,\n",
       " 0.0012,\n",
       " 0.0009,\n",
       " 0.0005,\n",
       " 0.0005,\n",
       " 0.0001,\n",
       " 0.0002]"
      ]
     },
     "execution_count": 37,
     "metadata": {},
     "output_type": "execute_result"
    }
   ],
   "source": [
    "# Dividing the number of elements in each bin by the total number of elements n we get estimations for the probabilities p_b of each bin\n",
    "probs = [deg/ N for deg in counts]\n",
    "probs # probabilities of each bin"
   ]
  },
  {
   "cell_type": "code",
   "execution_count": 38,
   "id": "43cf2bc1",
   "metadata": {},
   "outputs": [
    {
     "data": {
      "text/plain": [
       "0.9999999999999998"
      ]
     },
     "execution_count": 38,
     "metadata": {},
     "output_type": "execute_result"
    }
   ],
   "source": [
    "np.sum(probs)"
   ]
  },
  {
   "cell_type": "markdown",
   "id": "fddf8936",
   "metadata": {},
   "source": [
    "### Linear regression on the PDF"
   ]
  },
  {
   "cell_type": "markdown",
   "id": "05e5c5a1",
   "metadata": {},
   "source": [
    "We now need to make the linear regression of pairs (x_b, log_pb) to obtain the regression line. <br>\n",
    "Let's first calculate the elements of log_pb\n"
   ]
  },
  {
   "cell_type": "code",
   "execution_count": 39,
   "id": "aecd653e",
   "metadata": {},
   "outputs": [
    {
     "name": "stderr",
     "output_type": "stream",
     "text": [
      "C:\\Users\\denal\\AppData\\Local\\Temp/ipykernel_14712/502823365.py:1: RuntimeWarning: divide by zero encountered in log10\n",
      "  log_PDF_p = [np.log10(p) for p in probs]\n"
     ]
    },
    {
     "data": {
      "text/plain": [
       "[-0.2818305946086932,\n",
       " -inf,\n",
       " -inf,\n",
       " -0.5559552040819237,\n",
       " -1.0390538042661686,\n",
       " -inf,\n",
       " -1.391473966422806,\n",
       " -1.4596705252091262,\n",
       " -2.214670164989233,\n",
       " -1.9913998282380825,\n",
       " -2.3767507096020997,\n",
       " -2.318758762624413,\n",
       " -2.769551078621726,\n",
       " -2.638272163982407,\n",
       " -2.9208187539523753,\n",
       " -3.0457574905606752,\n",
       " -3.3010299956639813,\n",
       " -3.3010299956639813,\n",
       " -4.0,\n",
       " -3.6989700043360187]"
      ]
     },
     "execution_count": 39,
     "metadata": {},
     "output_type": "execute_result"
    }
   ],
   "source": [
    "log_PDF_p = [np.log10(p) for p in probs]\n",
    "log_PDF_p"
   ]
  },
  {
   "cell_type": "markdown",
   "id": "8018ec8e",
   "metadata": {},
   "source": [
    "We may have some infinite values: let's remove them from the list"
   ]
  },
  {
   "cell_type": "code",
   "execution_count": 40,
   "id": "17232c51",
   "metadata": {},
   "outputs": [
    {
     "data": {
      "text/plain": [
       "[1, 2, 5]"
      ]
     },
     "execution_count": 40,
     "metadata": {},
     "output_type": "execute_result"
    }
   ],
   "source": [
    "# list containing indices of the infinite elements\n",
    "inf_indices = []\n",
    "\n",
    "# populate the list\n",
    "for i in range(len(log_PDF_p)):\n",
    "    if math.isinf(log_PDF_p[i]):\n",
    "        inf_indices.append(i)\n",
    "               \n",
    "inf_indices"
   ]
  },
  {
   "cell_type": "code",
   "execution_count": 41,
   "id": "2f5c5f45",
   "metadata": {},
   "outputs": [
    {
     "data": {
      "text/plain": [
       "[-0.2818305946086932,\n",
       " -0.5559552040819237,\n",
       " -1.0390538042661686,\n",
       " -1.391473966422806,\n",
       " -1.4596705252091262,\n",
       " -2.214670164989233,\n",
       " -1.9913998282380825,\n",
       " -2.3767507096020997,\n",
       " -2.318758762624413,\n",
       " -2.769551078621726,\n",
       " -2.638272163982407,\n",
       " -2.9208187539523753,\n",
       " -3.0457574905606752,\n",
       " -3.3010299956639813,\n",
       " -3.3010299956639813,\n",
       " -4.0,\n",
       " -3.6989700043360187]"
      ]
     },
     "execution_count": 41,
     "metadata": {},
     "output_type": "execute_result"
    }
   ],
   "source": [
    "# select only finite elements:\n",
    "log_PDF_p = [v for v in log_PDF_p if not math.isinf(v)]\n",
    "log_PDF_p"
   ]
  },
  {
   "cell_type": "markdown",
   "id": "efafb8f4",
   "metadata": {},
   "source": [
    "The X vector of the linear regression is the bins vector, except from the first element <br>"
   ]
  },
  {
   "cell_type": "code",
   "execution_count": 42,
   "id": "b3ea6d8b",
   "metadata": {},
   "outputs": [
    {
     "data": {
      "text/plain": [
       "[0.09771212547196625,\n",
       " 0.390848501887865,\n",
       " 0.4885606273598313,\n",
       " 0.6839848783037638,\n",
       " 0.78169700377573,\n",
       " 0.8794091292476963,\n",
       " 0.9771212547196626,\n",
       " 1.0748333801916288,\n",
       " 1.172545505663595,\n",
       " 1.2702576311355613,\n",
       " 1.3679697566075275,\n",
       " 1.465681882079494,\n",
       " 1.56339400755146,\n",
       " 1.6611061330234262,\n",
       " 1.7588182584953926,\n",
       " 1.8565303839673588,\n",
       " 1.954242509439325]"
      ]
     },
     "execution_count": 42,
     "metadata": {},
     "output_type": "execute_result"
    }
   ],
   "source": [
    "X = bins[1:]\n",
    "\n",
    "# we should select only elements corresponding to finite values of the correspondig log_PDF_p\n",
    "x_2 = []\n",
    "for i in range(len(X)):\n",
    "    if i not in inf_indices:\n",
    "        x_2.append(X[i])\n",
    "X = x_2\n",
    "X"
   ]
  },
  {
   "cell_type": "markdown",
   "id": "2a2473d7",
   "metadata": {},
   "source": [
    "The Y vector of the linear regression is log_PDF_pLog_pb"
   ]
  },
  {
   "cell_type": "code",
   "execution_count": 43,
   "id": "53f03742",
   "metadata": {},
   "outputs": [
    {
     "data": {
      "text/plain": [
       "[-0.2818305946086932,\n",
       " -0.5559552040819237,\n",
       " -1.0390538042661686,\n",
       " -1.391473966422806,\n",
       " -1.4596705252091262,\n",
       " -2.214670164989233,\n",
       " -1.9913998282380825,\n",
       " -2.3767507096020997,\n",
       " -2.318758762624413,\n",
       " -2.769551078621726,\n",
       " -2.638272163982407,\n",
       " -2.9208187539523753,\n",
       " -3.0457574905606752,\n",
       " -3.3010299956639813,\n",
       " -3.3010299956639813,\n",
       " -4.0,\n",
       " -3.6989700043360187]"
      ]
     },
     "execution_count": 43,
     "metadata": {},
     "output_type": "execute_result"
    }
   ],
   "source": [
    "Y = log_PDF_p\n",
    "Y"
   ]
  },
  {
   "cell_type": "code",
   "execution_count": 44,
   "id": "99ab5366",
   "metadata": {},
   "outputs": [
    {
     "data": {
      "image/png": "[encoded data removed]",
      "text/plain": [
       "<Figure size 432x288 with 1 Axes>"
      ]
     },
     "metadata": {},
     "output_type": "display_data"
    }
   ],
   "source": [
    "plt.scatter(X, Y)\n",
    "plt.show()"
   ]
  },
  {
   "cell_type": "markdown",
   "id": "04766d98",
   "metadata": {},
   "source": [
    "Let's perform the Linear Regression by using the stats function of the scipy package"
   ]
  },
  {
   "cell_type": "code",
   "execution_count": 45,
   "id": "dfae19b7",
   "metadata": {},
   "outputs": [],
   "source": [
    "regr = stats.linregress(X, Y)"
   ]
  },
  {
   "cell_type": "markdown",
   "id": "80e3fb1c",
   "metadata": {},
   "source": [
    "We are interested in the slope of the regression line, indeed the estimation of the exponent is: <br>\n",
    "* gamma = -slope + 1"
   ]
  },
  {
   "cell_type": "code",
   "execution_count": 46,
   "id": "49827025",
   "metadata": {},
   "outputs": [
    {
     "name": "stdout",
     "output_type": "stream",
     "text": [
      "Slope:  -1.9537238013314766\n",
      "\n",
      "Exponent estimation: 2.953723801331477\n"
     ]
    }
   ],
   "source": [
    "print(\"Slope: \", regr.slope)\n",
    "exponent_estimation =  - regr.slope + 1\n",
    "print(\"\\nExponent estimation:\", exponent_estimation)"
   ]
  },
  {
   "cell_type": "markdown",
   "id": "72f5d40c",
   "metadata": {},
   "source": [
    "### Linear regression on the CCDF"
   ]
  },
  {
   "cell_type": "markdown",
   "id": "8da42eb4",
   "metadata": {},
   "source": [
    "Another alternative for the estimation of exponent gamma consists in doing exactly the same as above but for the complementary cumulative distribution function (CCDF) instead of the probability density function (PDF). <br>\n",
    "CCDF is calculated from the PDF just by summing up \n",
    "the probabilities of all the bins to the right of the bin you are considering (this one included in the sum). "
   ]
  },
  {
   "cell_type": "code",
   "execution_count": 47,
   "id": "299416e5",
   "metadata": {},
   "outputs": [
    {
     "data": {
      "text/plain": [
       "[0.5226,\n",
       " 0.0,\n",
       " 0.0,\n",
       " 0.278,\n",
       " 0.0914,\n",
       " 0.0,\n",
       " 0.0406,\n",
       " 0.0347,\n",
       " 0.0061,\n",
       " 0.0102,\n",
       " 0.0042,\n",
       " 0.0048,\n",
       " 0.0017,\n",
       " 0.0023,\n",
       " 0.0012,\n",
       " 0.0009,\n",
       " 0.0005,\n",
       " 0.0005,\n",
       " 0.0001,\n",
       " 0.0002]"
      ]
     },
     "execution_count": 47,
     "metadata": {},
     "output_type": "execute_result"
    }
   ],
   "source": [
    "# probabilities of the bins\n",
    "probs"
   ]
  },
  {
   "cell_type": "code",
   "execution_count": 48,
   "id": "c21f1152",
   "metadata": {},
   "outputs": [],
   "source": [
    "# compute CCDF by summing on the right\n",
    "CCDF_c = []\n",
    "for i in range(len(probs)):\n",
    "    CCDF_c.append(np.sum(probs[i:]))"
   ]
  },
  {
   "cell_type": "code",
   "execution_count": 49,
   "id": "badfd093",
   "metadata": {},
   "outputs": [
    {
     "data": {
      "text/plain": [
       "[0.9999999999999998,\n",
       " 0.4774,\n",
       " 0.4774,\n",
       " 0.47740000000000005,\n",
       " 0.1994,\n",
       " 0.10800000000000001,\n",
       " 0.10800000000000003,\n",
       " 0.0674,\n",
       " 0.03270000000000001,\n",
       " 0.026599999999999995,\n",
       " 0.016399999999999998,\n",
       " 0.012199999999999999,\n",
       " 0.0073999999999999995,\n",
       " 0.0057,\n",
       " 0.0034,\n",
       " 0.0022,\n",
       " 0.0013000000000000002,\n",
       " 0.0008,\n",
       " 0.00030000000000000003,\n",
       " 0.0002]"
      ]
     },
     "execution_count": 49,
     "metadata": {},
     "output_type": "execute_result"
    }
   ],
   "source": [
    "CCDF_c"
   ]
  },
  {
   "cell_type": "markdown",
   "id": "f78df964",
   "metadata": {},
   "source": [
    "We now need to make the linear regression of pairs (x_b and log_pb) to obtain the regression line.<br>\n",
    "Let's first calculate the elements of log(cb)"
   ]
  },
  {
   "cell_type": "code",
   "execution_count": 50,
   "id": "826e71da",
   "metadata": {},
   "outputs": [
    {
     "data": {
      "text/plain": [
       "[-9.643274665532872e-17,\n",
       " -0.32111758532926427,\n",
       " -0.32111758532926427,\n",
       " -0.3211175853292642,\n",
       " -0.7002748460243631,\n",
       " -0.9665762445130502,\n",
       " -0.9665762445130502,\n",
       " -1.1713401034646802,\n",
       " -1.4854522473397138,\n",
       " -1.5751183633689332,\n",
       " -1.7851561519523023,\n",
       " -1.9136401693252518,\n",
       " -2.1307682802690238,\n",
       " -2.2441251443275085,\n",
       " -2.468521082957745,\n",
       " -2.657577319177794,\n",
       " -2.886056647693163,\n",
       " -3.0969100130080562,\n",
       " -3.5228787452803374,\n",
       " -3.6989700043360187]"
      ]
     },
     "execution_count": 50,
     "metadata": {},
     "output_type": "execute_result"
    }
   ],
   "source": [
    "log_CCDF_c = [np.log10(c) for c in CCDF_c]\n",
    "log_CCDF_c"
   ]
  },
  {
   "cell_type": "markdown",
   "id": "7b8369a9",
   "metadata": {},
   "source": [
    "Again, as before, we may have infinite values that we should remove"
   ]
  },
  {
   "cell_type": "code",
   "execution_count": 51,
   "id": "6d962e6e",
   "metadata": {},
   "outputs": [
    {
     "data": {
      "text/plain": [
       "[]"
      ]
     },
     "execution_count": 51,
     "metadata": {},
     "output_type": "execute_result"
    }
   ],
   "source": [
    "# list containing indices of the infinite elements\n",
    "inf_indices = []\n",
    "\n",
    "for i in range(len(log_CCDF_c)):\n",
    "    if math.isinf(log_CCDF_c[i]):\n",
    "        inf_indices.append(i)\n",
    "               \n",
    "inf_indices"
   ]
  },
  {
   "cell_type": "code",
   "execution_count": 52,
   "id": "137e43a9",
   "metadata": {},
   "outputs": [
    {
     "data": {
      "text/plain": [
       "[-9.643274665532872e-17,\n",
       " -0.32111758532926427,\n",
       " -0.32111758532926427,\n",
       " -0.3211175853292642,\n",
       " -0.7002748460243631,\n",
       " -0.9665762445130502,\n",
       " -0.9665762445130502,\n",
       " -1.1713401034646802,\n",
       " -1.4854522473397138,\n",
       " -1.5751183633689332,\n",
       " -1.7851561519523023,\n",
       " -1.9136401693252518,\n",
       " -2.1307682802690238,\n",
       " -2.2441251443275085,\n",
       " -2.468521082957745,\n",
       " -2.657577319177794,\n",
       " -2.886056647693163,\n",
       " -3.0969100130080562,\n",
       " -3.5228787452803374,\n",
       " -3.6989700043360187]"
      ]
     },
     "execution_count": 52,
     "metadata": {},
     "output_type": "execute_result"
    }
   ],
   "source": [
    "# select only finite elements:\n",
    "log_CCDF_c = [v for v in log_CCDF_c if not math.isinf(v)]\n",
    "log_CCDF_c"
   ]
  },
  {
   "cell_type": "markdown",
   "id": "3c669ecf",
   "metadata": {},
   "source": [
    "X vector is the bins vector, except from the first element <br>"
   ]
  },
  {
   "cell_type": "code",
   "execution_count": 53,
   "id": "0026f09f",
   "metadata": {},
   "outputs": [
    {
     "data": {
      "text/plain": [
       "[0.09771212547196625,\n",
       " 0.1954242509439325,\n",
       " 0.29313637641589874,\n",
       " 0.390848501887865,\n",
       " 0.4885606273598313,\n",
       " 0.5862727528317975,\n",
       " 0.6839848783037638,\n",
       " 0.78169700377573,\n",
       " 0.8794091292476963,\n",
       " 0.9771212547196626,\n",
       " 1.0748333801916288,\n",
       " 1.172545505663595,\n",
       " 1.2702576311355613,\n",
       " 1.3679697566075275,\n",
       " 1.465681882079494,\n",
       " 1.56339400755146,\n",
       " 1.6611061330234262,\n",
       " 1.7588182584953926,\n",
       " 1.8565303839673588,\n",
       " 1.954242509439325]"
      ]
     },
     "execution_count": 53,
     "metadata": {},
     "output_type": "execute_result"
    }
   ],
   "source": [
    "X = bins[1:]\n",
    "\n",
    "# we should select only elements corresponding to finite values of the correspondig log_PDF_p\n",
    "x_2 = []\n",
    "for i in range(len(X)):\n",
    "    if i not in inf_indices:\n",
    "        x_2.append(X[i])\n",
    "X = x_2\n",
    "X"
   ]
  },
  {
   "cell_type": "markdown",
   "id": "4286259c",
   "metadata": {},
   "source": [
    "Y vector is the log_CCDF_c vector computed above"
   ]
  },
  {
   "cell_type": "code",
   "execution_count": 54,
   "id": "ccd1d896",
   "metadata": {},
   "outputs": [],
   "source": [
    "Y = log_CCDF_c"
   ]
  },
  {
   "cell_type": "code",
   "execution_count": 55,
   "id": "381d3016",
   "metadata": {},
   "outputs": [
    {
     "data": {
      "image/png": "[encoded data removed]",
      "text/plain": [
       "<Figure size 432x288 with 1 Axes>"
      ]
     },
     "metadata": {},
     "output_type": "display_data"
    }
   ],
   "source": [
    "plt.scatter(X, Y)\n",
    "plt.show()"
   ]
  },
  {
   "cell_type": "markdown",
   "id": "d5c7f928",
   "metadata": {},
   "source": [
    "Let's perform the Linear Regression by using the stats function of the scipy package: the procedure is the same as before."
   ]
  },
  {
   "cell_type": "code",
   "execution_count": 56,
   "id": "0dc522ed",
   "metadata": {
    "scrolled": false
   },
   "outputs": [
    {
     "name": "stdout",
     "output_type": "stream",
     "text": [
      "Slope:  -1.923510357001308\n",
      "\n",
      "Exponent estimation: 2.923510357001308\n"
     ]
    }
   ],
   "source": [
    "regr = stats.linregress(X, Y)\n",
    "print(\"Slope: \", regr.slope)\n",
    "exponent_estimation =  - regr.slope + 1\n",
    "print(\"\\nExponent estimation:\", exponent_estimation)"
   ]
  },
  {
   "cell_type": "markdown",
   "id": "81b70b55",
   "metadata": {},
   "source": [
    "#### Conclusion on exponent estimation\n",
    "Binning-based approaches, i.e. the 2 approaches we saw based on constructing bins and performing regression on the binned data,  perform poorly. <br>\n",
    "As we can easily imagine, in binning-based approaches the estimated exponent is highly dependent on the choice of bin width, and this dependency varies as a function of sample size ( [https://esajournals.onlinelibrary.wiley.com/doi/10.1890/07-1288.1White]). <br>\n",
    "In general, binning results in a loss of\n",
    "information about the distributions of points within a\n",
    "bin and is thus expected to perform poorly (Clauset et al.\n",
    "2007, Edwards et al. 2007). Therefore, while binning is\n",
    "useful for visualizing the frequency distribution, and\n",
    "normalized logarithmic binning performs well at this\n",
    "task, binning-based approaches should be avoided for\n",
    "parameter estimation (Clauset et al. 2007). <br>\n",
    "\n",
    "Maximum likelihood estimation performs best in estimating the powerlaw exponent."
   ]
  }
 ],
 "metadata": {
  "kernelspec": {
   "display_name": "Python 3 (ipykernel)",
   "language": "python",
   "name": "python3"
  },
  "language_info": {
   "codemirror_mode": {
    "name": "ipython",
    "version": 3
   },
   "file_extension": ".py",
   "mimetype": "text/x-python",
   "name": "python",
   "nbconvert_exporter": "python",
   "pygments_lexer": "ipython3",
   "version": "3.9.7"
  }
 },
 "nbformat": 4,
 "nbformat_minor": 5
}
